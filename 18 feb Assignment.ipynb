{
 "cells": [
  {
   "cell_type": "markdown",
   "id": "8c24c0f2",
   "metadata": {},
   "source": [
    "Answer 1-"
   ]
  },
  {
   "cell_type": "markdown",
   "id": "99f7ef17",
   "metadata": {},
   "source": [
    "API is a application Software interface.it is a software that enables communication between to apps,api's are all arounf us are may  used in real life scenarious such  as ,like ride share app,send a payment online.\n",
    "\n",
    "Example:- Let's say that you want to make a weather app so you have to use a weather api provided by weather services that give you access to their data and after that you can use api data to show the information on your app.\n"
   ]
  },
  {
   "cell_type": "markdown",
   "id": "7d2f47b8",
   "metadata": {},
   "source": [
    "Answer 2-"
   ]
  },
  {
   "cell_type": "markdown",
   "id": "fd4b7944",
   "metadata": {},
   "source": [
    "APIs have many advantages and disadvantages. Some of the advantages of APIs include time-saving, efficiency, and automation1. APIs can also help businesses to expand their reach by allowing them to integrate with other systems and services2. However, there are also some disadvantages to using APIs. For example, as a single point of entry, an API can become a hacker’s primary target2. Once the API is compromised, all other applications and systems become vulnerable2."
   ]
  },
  {
   "cell_type": "markdown",
   "id": "e505148a",
   "metadata": {},
   "source": [
    "Answer 3-\n",
    "\n",
    "A Web API is an API that can be accessed over the web using the HTTP Protocol1. It is an Open-Source framework for a web application or web server that communicates between clients and websites for data access.\n",
    "\n",
    "APIs are a software interface that allows two applications to interact with each other without any user involvement. Web services are a type of API that must be accessed through a network. All web services are APIs, but not all APIs are web services."
   ]
  },
  {
   "cell_type": "raw",
   "id": "2678b875",
   "metadata": {},
   "source": [
    "Answer 4-\n",
    "\n",
    "REST (Representational State Transfer) is an architectural style for building client-server applications. REST is a more data-driven architecture that places certain constraints on the design of a web API. RESTful web services have better performance because it is a more lightweight architecture.\n",
    "\n",
    "SOAP (Simple Object Access Protocol) is a protocol specification for exchanging data between two endpoints. SOAP is a standardised protocol for sharing structured data that is more function-driven. SOAP uses WebService whereas REST instead of using interfaces uses URI like Path. SOAP has ACID compliance.\n",
    "\n",
    "The main difference between REST and SOAP architecture is that REST is a more data-driven architecture, whereas SOAP is a standardised protocol for sharing structured data that is more function-driven4.\n",
    "\n",
    "The shortcomings of SOAP are that it requires more bandwidth than REST and it’s difficult to implement\n"
   ]
  },
  {
   "cell_type": "markdown",
   "id": "af0e0e08",
   "metadata": {},
   "source": [
    "Answer 5-\n",
    "\n",
    "SOAP (Simple Object Access Protocol) is a protocol specification for exchanging data between two endpoints. SOAP uses a service interface to expose certain aspects of an application’s business logic on a server. SOAP relies on XML to assist the services.\n",
    "\n",
    "REST (Representational State Transfer) is an architectural style for building client-server applications. RESTful web services have better performance because it is a more lightweight architecture. REST uses URIs to expose certain aspects of an application’s business logic on a server. REST can support various formats such as HTML, XML, JSON, etcj.\n",
    "\n",
    "The main difference between REST and SOAP architecture is that SOAP is a protocol, whereas REST is an architectural style.\n"
   ]
  }
 ],
 "metadata": {
  "kernelspec": {
   "display_name": "Python 3 (ipykernel)",
   "language": "python",
   "name": "python3"
  },
  "language_info": {
   "codemirror_mode": {
    "name": "ipython",
    "version": 3
   },
   "file_extension": ".py",
   "mimetype": "text/x-python",
   "name": "python",
   "nbconvert_exporter": "python",
   "pygments_lexer": "ipython3",
   "version": "3.9.13"
  }
 },
 "nbformat": 4,
 "nbformat_minor": 5
}
