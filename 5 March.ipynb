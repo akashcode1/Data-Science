{
 "cells": [
  {
   "cell_type": "code",
   "execution_count": 1,
   "id": "602d2e50",
   "metadata": {},
   "outputs": [],
   "source": [
    "#Answer 1\n",
    "from bokeh.plotting import figure, output_file, show\n",
    "\n",
    "x = [1, 2, 3, 4, 5]\n",
    "y = [6, 7, 2, 4, 5]\n",
    "\n",
    "output_file(\"scatter.html\")\n",
    "\n",
    "p = figure(title=\"Simple scatter plot\", x_axis_label='X', y_axis_label='Y')\n",
    "\n",
    "p.circle(x, y, size=10, color='red')\n",
    "\n",
    "show(p)\n"
   ]
  },
  {
   "cell_type": "markdown",
   "id": "7ede4c7f",
   "metadata": {},
   "source": [
    "Answer 2-\n",
    "In Bokeh, glyphs are graphical representations of data that can be added to a plot. They can be used to display various types of data points such as circles, squares, lines, and triangles. Glyphs are added to a plot using glyph methods of the figure object. For example, the following code adds a circle glyph to a Bokeh plot:"
   ]
  },
  {
   "cell_type": "code",
   "execution_count": 2,
   "id": "663e289c",
   "metadata": {},
   "outputs": [],
   "source": [
    "from bokeh.plotting import figure, output_file, show\n",
    "\n",
    "x = [1, 2, 3, 4, 5]\n",
    "y = [6, 7, 2, 4, 5]\n",
    "\n",
    "output_file(\"circle.html\")\n",
    "\n",
    "p = figure(title=\"Circle glyph example\", x_axis_label='X', y_axis_label='Y')\n",
    "\n",
    "p.circle(x, y, size=20, color='navy', alpha=0.5)\n",
    "\n",
    "show(p)\n"
   ]
  },
  {
   "cell_type": "markdown",
   "id": "eb5e7c89",
   "metadata": {},
   "source": [
    "Answer 3-\n",
    "In Bokeh, you can customize the appearance of a plot using various properties such as title, axes labels, colors, and legends. These properties can be set using the methods and attributes of the figure object. For example, the following code customizes the appearance of a scatter plot:"
   ]
  },
  {
   "cell_type": "code",
   "execution_count": 3,
   "id": "9646e871",
   "metadata": {},
   "outputs": [],
   "source": [
    "from bokeh.plotting import figure, output_file, show\n",
    "\n",
    "x = [1, 2, 3, 4, 5]\n",
    "y = [6, 7, 2, 4, 5]\n",
    "\n",
    "output_file(\"scatter.html\")\n",
    "\n",
    "p = figure(title=\"Customized scatter plot\", x_axis_label='X', y_axis_label='Y', background_fill_color='gray')\n",
    "\n",
    "p.circle(x, y, size=20, color='navy', alpha=0.5, legend_label='Data points')\n",
    "\n",
    "p.title.text_font_size = '20pt'\n",
    "p.xaxis.axis_label_text_font_size = '16pt'\n",
    "p.yaxis.axis_label_text_font_size = '16pt'\n",
    "p.legend.location = 'top_left'\n",
    "p.legend.label_text_font_size = '14pt'\n",
    "\n",
    "show(p)\n"
   ]
  },
  {
   "cell_type": "markdown",
   "id": "9f1064f6",
   "metadata": {},
   "source": [
    "Answer 4-\n",
    "A Bokeh server is a Python application that allows for the creation of interactive Bokeh plots that can be updated in real time. With a Bokeh server, users can create and manipulate Bokeh plots through a web interface, and data can be updated dynamically as new information becomes available. Bokeh servers use the Tornado library to handle asynchronous communication between the web interface and the Python code.\n",
    "\n",
    "To use a Bokeh server, you first need to create a Python script that defines the data and the Bokeh plot. Then, you can use the bokeh.server.server module to start the Bokeh server, which will host the plot on a specified port. Finally, you can access the plot through a web browser by navigating to the server URL."
   ]
  },
  {
   "cell_type": "markdown",
   "id": "bbe08a4c",
   "metadata": {},
   "source": [
    "Answer 5-\n",
    "Embedding a Bokeh plot into a web page or dashboard using Flask or Django involves creating a view that renders the Bokeh plot as HTML. In Flask, you can use the bokeh.embed.components function to generate the necessary HTML and JavaScript code for the plot, and then pass it to the Jinja2 template engine to be rendered as part of a web page. Here's an example:"
   ]
  },
  {
   "cell_type": "code",
   "execution_count": null,
   "id": "370554a4",
   "metadata": {},
   "outputs": [
    {
     "name": "stdout",
     "output_type": "stream",
     "text": [
      " * Serving Flask app \"__main__\" (lazy loading)\n",
      " * Environment: production\n",
      "\u001b[31m   WARNING: This is a development server. Do not use it in a production deployment.\u001b[0m\n",
      "\u001b[2m   Use a production WSGI server instead.\u001b[0m\n",
      " * Debug mode: off\n"
     ]
    },
    {
     "name": "stderr",
     "output_type": "stream",
     "text": [
      " * Running on http://127.0.0.1:5000/ (Press CTRL+C to quit)\n"
     ]
    }
   ],
   "source": [
    "from flask import Flask, render_template\n",
    "from bokeh.plotting import figure, output_file, show\n",
    "from bokeh.embed import components\n",
    "\n",
    "app = Flask(__name__)\n",
    "\n",
    "@app.route('/')\n",
    "def index():\n",
    "    # create the Bokeh plot\n",
    "    plot = figure()\n",
    "    plot.circle([1, 2, 3], [4, 5, 6])\n",
    "\n",
    "    # generate the HTML and JavaScript code for the plot\n",
    "    script, div = components(plot)\n",
    "\n",
    "    # render the template with the plot code\n",
    "    return render_template('index.html', script=script, div=div)\n",
    "\n",
    "if __name__ == '__main__':\n",
    "    app.run()\n"
   ]
  },
  {
   "cell_type": "markdown",
   "id": "b12b7fbb",
   "metadata": {},
   "source": [
    "In this example, the index function creates a simple Bokeh plot, generates the HTML and JavaScript code using the components function, and then passes the code to the render_template function, which renders a Jinja2 template called index.html. The index.html template should contain placeholders for the plot code, which can be inserted using the {{ script }} and {{ div }} variables.\n",
    "\n",
    "The process for embedding a Bokeh plot in Django is similar, but instead of using Flask's render_template function, you can use Django's built-in template engine to render the plot code as part of a web page."
   ]
  },
  {
   "cell_type": "code",
   "execution_count": null,
   "id": "3a1dae61",
   "metadata": {},
   "outputs": [],
   "source": []
  }
 ],
 "metadata": {
  "kernelspec": {
   "display_name": "Python 3 (ipykernel)",
   "language": "python",
   "name": "python3"
  },
  "language_info": {
   "codemirror_mode": {
    "name": "ipython",
    "version": 3
   },
   "file_extension": ".py",
   "mimetype": "text/x-python",
   "name": "python",
   "nbconvert_exporter": "python",
   "pygments_lexer": "ipython3",
   "version": "3.9.13"
  }
 },
 "nbformat": 4,
 "nbformat_minor": 5
}
