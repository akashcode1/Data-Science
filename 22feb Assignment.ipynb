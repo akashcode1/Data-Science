{
 "cells": [
  {
   "cell_type": "code",
   "execution_count": 20,
   "id": "6f9cdbe0-7545-43d5-b64c-feb06f4ea55b",
   "metadata": {},
   "outputs": [],
   "source": [
    "import pandas as pd"
   ]
  },
  {
   "cell_type": "code",
   "execution_count": 21,
   "id": "d54e5d89-7aaa-4683-a860-3ac053b393d8",
   "metadata": {},
   "outputs": [],
   "source": [
    "#Answer 1-\n",
    "#Creating Series Directly\n",
    "ser=pd.Series([4,8,15,16,23,42])"
   ]
  },
  {
   "cell_type": "code",
   "execution_count": 22,
   "id": "8a3a1005-eed3-4191-884a-c39012d7dbb3",
   "metadata": {},
   "outputs": [
    {
     "data": {
      "text/plain": [
       "0     4\n",
       "1     8\n",
       "2    15\n",
       "3    16\n",
       "4    23\n",
       "5    42\n",
       "dtype: int64"
      ]
     },
     "execution_count": 22,
     "metadata": {},
     "output_type": "execute_result"
    }
   ],
   "source": [
    "ser"
   ]
  },
  {
   "cell_type": "code",
   "execution_count": 23,
   "id": "f8a748c3-ee79-46f0-b70e-2e79d121f879",
   "metadata": {},
   "outputs": [],
   "source": [
    "#Answewr 2-\n",
    "data = [4,8,15,16,23,42]\n",
    "\n",
    "ser1=pd.Series(data)"
   ]
  },
  {
   "cell_type": "code",
   "execution_count": 24,
   "id": "aeac72e7-1716-4e9e-8b92-75c5836ad37a",
   "metadata": {},
   "outputs": [
    {
     "data": {
      "text/plain": [
       "0     4\n",
       "1     8\n",
       "2    15\n",
       "3    16\n",
       "4    23\n",
       "5    42\n",
       "dtype: int64"
      ]
     },
     "execution_count": 24,
     "metadata": {},
     "output_type": "execute_result"
    }
   ],
   "source": [
    "ser1"
   ]
  },
  {
   "cell_type": "code",
   "execution_count": 25,
   "id": "2aa3fa60-e0e1-4f40-bb39-3b4ff784243a",
   "metadata": {},
   "outputs": [],
   "source": [
    "#Answer 3-\n",
    "data = { \"Name\" :[\"Alice\",\"Bob\",\"Claire\"],\n",
    "        \"Age\" : [25,30,27,],\n",
    "        \"Gender\" : [\"Female\" , \"Male\",\"Female\"]\n",
    "}\n"
   ]
  },
  {
   "cell_type": "code",
   "execution_count": 26,
   "id": "c4a990e3-481b-4bbd-963f-812ac0fc0d77",
   "metadata": {},
   "outputs": [],
   "source": [
    "df = pd.DataFrame(data)"
   ]
  },
  {
   "cell_type": "code",
   "execution_count": 27,
   "id": "6b533983-d43b-4685-a9fc-e70cd5a1562f",
   "metadata": {},
   "outputs": [
    {
     "data": {
      "text/html": [
       "<div>\n",
       "<style scoped>\n",
       "    .dataframe tbody tr th:only-of-type {\n",
       "        vertical-align: middle;\n",
       "    }\n",
       "\n",
       "    .dataframe tbody tr th {\n",
       "        vertical-align: top;\n",
       "    }\n",
       "\n",
       "    .dataframe thead th {\n",
       "        text-align: right;\n",
       "    }\n",
       "</style>\n",
       "<table border=\"1\" class=\"dataframe\">\n",
       "  <thead>\n",
       "    <tr style=\"text-align: right;\">\n",
       "      <th></th>\n",
       "      <th>Name</th>\n",
       "      <th>Age</th>\n",
       "      <th>Gender</th>\n",
       "    </tr>\n",
       "  </thead>\n",
       "  <tbody>\n",
       "    <tr>\n",
       "      <th>0</th>\n",
       "      <td>Alice</td>\n",
       "      <td>25</td>\n",
       "      <td>Female</td>\n",
       "    </tr>\n",
       "    <tr>\n",
       "      <th>1</th>\n",
       "      <td>Bob</td>\n",
       "      <td>30</td>\n",
       "      <td>Male</td>\n",
       "    </tr>\n",
       "    <tr>\n",
       "      <th>2</th>\n",
       "      <td>Claire</td>\n",
       "      <td>27</td>\n",
       "      <td>Female</td>\n",
       "    </tr>\n",
       "  </tbody>\n",
       "</table>\n",
       "</div>"
      ],
      "text/plain": [
       "     Name  Age  Gender\n",
       "0   Alice   25  Female\n",
       "1     Bob   30    Male\n",
       "2  Claire   27  Female"
      ]
     },
     "execution_count": 27,
     "metadata": {},
     "output_type": "execute_result"
    }
   ],
   "source": [
    "df"
   ]
  },
  {
   "cell_type": "markdown",
   "id": "c0b4e0e7-536e-46a4-bf0f-5ed2cb8f1198",
   "metadata": {},
   "source": [
    "#Answer 4-\n",
    "\n",
    "In pandas, a DataFrame is a two-dimensional labeled data structure with columns of potentially different types.\n",
    "It is essentially a table or spreadsheet-like data structure where each column can have a different data type \n",
    "(e.g., numeric, string, boolean, etc.). It is similar to a Series, but a DataFrame can have multiple columns andit has a row index and a column index.\n",
    "\n",
    "Example To illustrate Diffrence between DataFrame & Series:- \n",
    "\n"
   ]
  },
  {
   "cell_type": "code",
   "execution_count": 30,
   "id": "b3a34163-6d2c-4646-a425-8514ff7355a2",
   "metadata": {},
   "outputs": [
    {
     "data": {
      "text/html": [
       "<div>\n",
       "<style scoped>\n",
       "    .dataframe tbody tr th:only-of-type {\n",
       "        vertical-align: middle;\n",
       "    }\n",
       "\n",
       "    .dataframe tbody tr th {\n",
       "        vertical-align: top;\n",
       "    }\n",
       "\n",
       "    .dataframe thead th {\n",
       "        text-align: right;\n",
       "    }\n",
       "</style>\n",
       "<table border=\"1\" class=\"dataframe\">\n",
       "  <thead>\n",
       "    <tr style=\"text-align: right;\">\n",
       "      <th></th>\n",
       "      <th>name</th>\n",
       "      <th>age</th>\n",
       "    </tr>\n",
       "  </thead>\n",
       "  <tbody>\n",
       "    <tr>\n",
       "      <th>0</th>\n",
       "      <td>Alice</td>\n",
       "      <td>25</td>\n",
       "    </tr>\n",
       "    <tr>\n",
       "      <th>1</th>\n",
       "      <td>Bob</td>\n",
       "      <td>30</td>\n",
       "    </tr>\n",
       "    <tr>\n",
       "      <th>2</th>\n",
       "      <td>Charlie</td>\n",
       "      <td>35</td>\n",
       "    </tr>\n",
       "  </tbody>\n",
       "</table>\n",
       "</div>"
      ],
      "text/plain": [
       "      name  age\n",
       "0    Alice   25\n",
       "1      Bob   30\n",
       "2  Charlie   35"
      ]
     },
     "execution_count": 30,
     "metadata": {},
     "output_type": "execute_result"
    }
   ],
   "source": [
    "# create a dictionary with two Series\n",
    "data = {'name': pd.Series(['Alice', 'Bob', 'Charlie']),\n",
    "        'age': pd.Series([25, 30, 35])}\n",
    "\n",
    "# create a DataFrame from the dictionary\n",
    "df = pd.DataFrame(data)\n",
    "\n",
    "# print the DataFrame\n",
    "df\n"
   ]
  },
  {
   "cell_type": "markdown",
   "id": "061daf67-a894-4b40-87f8-118eeae774e9",
   "metadata": {},
   "source": [
    "\n",
    "You can see that the resulting DataFrame has two columns, 'name' and 'age', and three rows. Each column is a Series object,\n",
    "but combined they form a DataFrame with a row index and a column index. The Series objects in a DataFrame can have different lengths, \n",
    "but the DataFrame will automatically align them based on the index.\n",
    "\n",
    "In summary, a Series is a one-dimensional labeled array capable of holding data of any type, while a DataFrame is a two-dimensional labeled \n",
    "data structure with columns of potentially different types. A DataFrame is more suitable for representing and analyzing structured data that has multiple variables or features.\n"
   ]
  },
  {
   "cell_type": "markdown",
   "id": "7c5eabae-8b49-408e-ab19-aaf0aa297813",
   "metadata": {},
   "source": [
    "#Answer 5-\n",
    "\n",
    "head() and tail(): -These functions are used to display the first or last n rows of a DataFrame, respectively. They are useful to quickly get a sense of what the data looks like.\n",
    "\n",
    "\n",
    "describe(): - This function generates descriptive statistics of a DataFrame, including count, mean, standard deviation, minimum, maximum, and quartiles. It is useful to get a quick summary of the distribution of the data.\n"
   ]
  },
  {
   "cell_type": "code",
   "execution_count": 31,
   "id": "1463956d-2eef-4778-a3fb-b8e1ea57e623",
   "metadata": {},
   "outputs": [],
   "source": [
    "#HEAD & TAIL FUNCTION\n",
    "df1 = pd.DataFrame({'name': ['Alice', 'Bob', 'Charlie'],\n",
    "                   'age': [25, 30, 35],\n",
    "                   'country': ['USA', 'Canada', 'UK']})"
   ]
  },
  {
   "cell_type": "code",
   "execution_count": 32,
   "id": "884a2a3f-7fb4-47a8-add6-e9a74bcdcc87",
   "metadata": {},
   "outputs": [
    {
     "data": {
      "text/html": [
       "<div>\n",
       "<style scoped>\n",
       "    .dataframe tbody tr th:only-of-type {\n",
       "        vertical-align: middle;\n",
       "    }\n",
       "\n",
       "    .dataframe tbody tr th {\n",
       "        vertical-align: top;\n",
       "    }\n",
       "\n",
       "    .dataframe thead th {\n",
       "        text-align: right;\n",
       "    }\n",
       "</style>\n",
       "<table border=\"1\" class=\"dataframe\">\n",
       "  <thead>\n",
       "    <tr style=\"text-align: right;\">\n",
       "      <th></th>\n",
       "      <th>name</th>\n",
       "      <th>age</th>\n",
       "      <th>country</th>\n",
       "    </tr>\n",
       "  </thead>\n",
       "  <tbody>\n",
       "    <tr>\n",
       "      <th>0</th>\n",
       "      <td>Alice</td>\n",
       "      <td>25</td>\n",
       "      <td>USA</td>\n",
       "    </tr>\n",
       "    <tr>\n",
       "      <th>1</th>\n",
       "      <td>Bob</td>\n",
       "      <td>30</td>\n",
       "      <td>Canada</td>\n",
       "    </tr>\n",
       "  </tbody>\n",
       "</table>\n",
       "</div>"
      ],
      "text/plain": [
       "    name  age country\n",
       "0  Alice   25     USA\n",
       "1    Bob   30  Canada"
      ]
     },
     "execution_count": 32,
     "metadata": {},
     "output_type": "execute_result"
    }
   ],
   "source": [
    "df1.head(2)"
   ]
  },
  {
   "cell_type": "code",
   "execution_count": 33,
   "id": "cfe2722a-49ab-4349-8969-b6469e8194c5",
   "metadata": {},
   "outputs": [
    {
     "data": {
      "text/html": [
       "<div>\n",
       "<style scoped>\n",
       "    .dataframe tbody tr th:only-of-type {\n",
       "        vertical-align: middle;\n",
       "    }\n",
       "\n",
       "    .dataframe tbody tr th {\n",
       "        vertical-align: top;\n",
       "    }\n",
       "\n",
       "    .dataframe thead th {\n",
       "        text-align: right;\n",
       "    }\n",
       "</style>\n",
       "<table border=\"1\" class=\"dataframe\">\n",
       "  <thead>\n",
       "    <tr style=\"text-align: right;\">\n",
       "      <th></th>\n",
       "      <th>name</th>\n",
       "      <th>age</th>\n",
       "      <th>country</th>\n",
       "    </tr>\n",
       "  </thead>\n",
       "  <tbody>\n",
       "    <tr>\n",
       "      <th>0</th>\n",
       "      <td>Alice</td>\n",
       "      <td>25</td>\n",
       "      <td>USA</td>\n",
       "    </tr>\n",
       "    <tr>\n",
       "      <th>1</th>\n",
       "      <td>Bob</td>\n",
       "      <td>30</td>\n",
       "      <td>Canada</td>\n",
       "    </tr>\n",
       "    <tr>\n",
       "      <th>2</th>\n",
       "      <td>Charlie</td>\n",
       "      <td>35</td>\n",
       "      <td>UK</td>\n",
       "    </tr>\n",
       "  </tbody>\n",
       "</table>\n",
       "</div>"
      ],
      "text/plain": [
       "      name  age country\n",
       "0    Alice   25     USA\n",
       "1      Bob   30  Canada\n",
       "2  Charlie   35      UK"
      ]
     },
     "execution_count": 33,
     "metadata": {},
     "output_type": "execute_result"
    }
   ],
   "source": [
    "df1.tail()"
   ]
  },
  {
   "cell_type": "code",
   "execution_count": 34,
   "id": "4eb6e600-8db7-4d2a-bc4f-cc6f43719746",
   "metadata": {},
   "outputs": [
    {
     "data": {
      "text/html": [
       "<div>\n",
       "<style scoped>\n",
       "    .dataframe tbody tr th:only-of-type {\n",
       "        vertical-align: middle;\n",
       "    }\n",
       "\n",
       "    .dataframe tbody tr th {\n",
       "        vertical-align: top;\n",
       "    }\n",
       "\n",
       "    .dataframe thead th {\n",
       "        text-align: right;\n",
       "    }\n",
       "</style>\n",
       "<table border=\"1\" class=\"dataframe\">\n",
       "  <thead>\n",
       "    <tr style=\"text-align: right;\">\n",
       "      <th></th>\n",
       "      <th>age</th>\n",
       "    </tr>\n",
       "  </thead>\n",
       "  <tbody>\n",
       "    <tr>\n",
       "      <th>count</th>\n",
       "      <td>3.0</td>\n",
       "    </tr>\n",
       "    <tr>\n",
       "      <th>mean</th>\n",
       "      <td>30.0</td>\n",
       "    </tr>\n",
       "    <tr>\n",
       "      <th>std</th>\n",
       "      <td>5.0</td>\n",
       "    </tr>\n",
       "    <tr>\n",
       "      <th>min</th>\n",
       "      <td>25.0</td>\n",
       "    </tr>\n",
       "    <tr>\n",
       "      <th>25%</th>\n",
       "      <td>27.5</td>\n",
       "    </tr>\n",
       "    <tr>\n",
       "      <th>50%</th>\n",
       "      <td>30.0</td>\n",
       "    </tr>\n",
       "    <tr>\n",
       "      <th>75%</th>\n",
       "      <td>32.5</td>\n",
       "    </tr>\n",
       "    <tr>\n",
       "      <th>max</th>\n",
       "      <td>35.0</td>\n",
       "    </tr>\n",
       "  </tbody>\n",
       "</table>\n",
       "</div>"
      ],
      "text/plain": [
       "        age\n",
       "count   3.0\n",
       "mean   30.0\n",
       "std     5.0\n",
       "min    25.0\n",
       "25%    27.5\n",
       "50%    30.0\n",
       "75%    32.5\n",
       "max    35.0"
      ]
     },
     "execution_count": 34,
     "metadata": {},
     "output_type": "execute_result"
    }
   ],
   "source": [
    "#DESCRIBE FUNCTION\n",
    "df1.describe()"
   ]
  },
  {
   "cell_type": "markdown",
   "id": "f8c48547-0fec-446b-9fb1-0a51db3b4935",
   "metadata": {},
   "source": [
    "#Answer 6-\n",
    "\n",
    "A Series and DataFrame are mutable in nature in pandas, while a Panel is not mutable, but can be replaced with a new Panel.\n",
    "\n",
    "In other words, you can modify the values in a Series or DataFrame after they have been created. For example, you can add, delete, or update elements in a Series, or add, delete, or modify rows or columns in a DataFrame. This is because they are designed to represent tabular or spreadsheet-like data that can be manipulated.\n",
    "\n",
    "However, a Panel is a three-dimensional data structure in pandas, which is essentially a collection of DataFrame objects. While you cannot modify a Panel directly, you can replace it with a new Panel that has different values. This is because a Panel is intended to represent data that has an extra dimension, such as a time series with multiple variables."
   ]
  },
  {
   "cell_type": "code",
   "execution_count": 37,
   "id": "a98f7c78-93fd-4c32-aa90-3dde121c9c0f",
   "metadata": {},
   "outputs": [],
   "source": [
    "#Anser 7-\n",
    "\n",
    "name_series = pd.Series(['Alice', 'Bob', 'Charlie'])\n",
    "age_series = pd.Series([25, 30, 35])\n",
    "country_series = pd.Series(['USA', 'Canada', 'UK'])\n",
    "\n",
    "df = pd.DataFrame({'name': name_series, 'age': age_series, 'country': country_series})\n"
   ]
  },
  {
   "cell_type": "code",
   "execution_count": 38,
   "id": "f3e8fd7d-0fc9-4997-b5b3-4b35b4602621",
   "metadata": {},
   "outputs": [
    {
     "data": {
      "text/html": [
       "<div>\n",
       "<style scoped>\n",
       "    .dataframe tbody tr th:only-of-type {\n",
       "        vertical-align: middle;\n",
       "    }\n",
       "\n",
       "    .dataframe tbody tr th {\n",
       "        vertical-align: top;\n",
       "    }\n",
       "\n",
       "    .dataframe thead th {\n",
       "        text-align: right;\n",
       "    }\n",
       "</style>\n",
       "<table border=\"1\" class=\"dataframe\">\n",
       "  <thead>\n",
       "    <tr style=\"text-align: right;\">\n",
       "      <th></th>\n",
       "      <th>name</th>\n",
       "      <th>age</th>\n",
       "      <th>country</th>\n",
       "    </tr>\n",
       "  </thead>\n",
       "  <tbody>\n",
       "    <tr>\n",
       "      <th>0</th>\n",
       "      <td>Alice</td>\n",
       "      <td>25</td>\n",
       "      <td>USA</td>\n",
       "    </tr>\n",
       "    <tr>\n",
       "      <th>1</th>\n",
       "      <td>Bob</td>\n",
       "      <td>30</td>\n",
       "      <td>Canada</td>\n",
       "    </tr>\n",
       "    <tr>\n",
       "      <th>2</th>\n",
       "      <td>Charlie</td>\n",
       "      <td>35</td>\n",
       "      <td>UK</td>\n",
       "    </tr>\n",
       "  </tbody>\n",
       "</table>\n",
       "</div>"
      ],
      "text/plain": [
       "      name  age country\n",
       "0    Alice   25     USA\n",
       "1      Bob   30  Canada\n",
       "2  Charlie   35      UK"
      ]
     },
     "execution_count": 38,
     "metadata": {},
     "output_type": "execute_result"
    }
   ],
   "source": [
    "df"
   ]
  },
  {
   "cell_type": "markdown",
   "id": "52de6705-4d49-4921-a3c8-382d55176859",
   "metadata": {},
   "source": [
    "In this example, first create three Series for name, age, and country. Then,  pass them as arguments to the pd.DataFrame() function to create a new DataFrame. The resulting DataFrame has three columns, one for each Series, and an index that corresponds to the index of the original Series."
   ]
  },
  {
   "cell_type": "code",
   "execution_count": null,
   "id": "c01315ef-cb2a-472d-ae85-7e691b3b216f",
   "metadata": {},
   "outputs": [],
   "source": []
  }
 ],
 "metadata": {
  "kernelspec": {
   "display_name": "Python 3 (ipykernel)",
   "language": "python",
   "name": "python3"
  },
  "language_info": {
   "codemirror_mode": {
    "name": "ipython",
    "version": 3
   },
   "file_extension": ".py",
   "mimetype": "text/x-python",
   "name": "python",
   "nbconvert_exporter": "python",
   "pygments_lexer": "ipython3",
   "version": "3.10.6"
  }
 },
 "nbformat": 4,
 "nbformat_minor": 5
}
