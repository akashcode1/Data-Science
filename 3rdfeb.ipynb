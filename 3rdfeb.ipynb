{
 "cells": [
  {
   "cell_type": "code",
   "execution_count": 4,
   "id": "02661917-3f76-4008-a0a3-ed4ef550e71d",
   "metadata": {},
   "outputs": [],
   "source": [
    "\"\"\"Answer1-\n",
    "def keyword is used to create a function.\n",
    "\"\"\"\n",
    "def odd():\n",
    "    l=[]\n",
    "    i=1\n",
    "    while i<=25:\n",
    "        if i%2!=0:\n",
    "            l.append(i)\n",
    "        i=i+1\n",
    "    return l"
   ]
  },
  {
   "cell_type": "code",
   "execution_count": 5,
   "id": "fb46f9c3-8365-4c2f-9e56-3f971a494a25",
   "metadata": {},
   "outputs": [
    {
     "data": {
      "text/plain": [
       "[1, 3, 5, 7, 9, 11, 13, 15, 17, 19, 21, 23, 25]"
      ]
     },
     "execution_count": 5,
     "metadata": {},
     "output_type": "execute_result"
    }
   ],
   "source": [
    "odd()"
   ]
  },
  {
   "cell_type": "code",
   "execution_count": 16,
   "id": "bdfdf8eb-9dc2-4ac0-96d3-e27ba1f68d54",
   "metadata": {},
   "outputs": [
    {
     "name": "stdout",
     "output_type": "stream",
     "text": [
      "first_name: John\n",
      "last_name: Doe\n",
      "age: 32\n"
     ]
    }
   ],
   "source": [
    "\"\"\"Answer2 -\n",
    "\n",
    "-*args and **kwargs can be used together in a function definition to allow a function to receive a mix of both non-keyword and keyword arguments \n",
    " *args Return Data in tuple .\n",
    "\n",
    "-*args and **kwargs are typically used in function definition s as a way to pass a flexible number of arguments to a function, allowing for greater versatility in the functions you write.\n",
    " **kwargs Return Data In Dictionary\n",
    "Function with *args-\n",
    "\"\"\"\n",
    "def check(*args):\n",
    "    return args\n",
    "\n",
    "def print_kwargs(**kwargs):\n",
    "    for key, value in kwargs.items():\n",
    "        print(f\"{key}: {value}\")\n",
    "\n",
    "print_kwargs(first_name=\"John\", last_name=\"Doe\", age=32)\n"
   ]
  },
  {
   "cell_type": "code",
   "execution_count": 15,
   "id": "b2724f91-4730-490a-8f91-1e00a3e6d1b0",
   "metadata": {},
   "outputs": [
    {
     "data": {
      "text/plain": [
       "tuple"
      ]
     },
     "execution_count": 15,
     "metadata": {},
     "output_type": "execute_result"
    }
   ],
   "source": [
    "type(check(1,1,2,2,3,3,4,\"Akash\", \"Tripathi\", [1,2,3,4]))\n"
   ]
  },
  {
   "cell_type": "code",
   "execution_count": 1,
   "id": "091ed2ad-f290-4403-ab40-117e280a2b32",
   "metadata": {},
   "outputs": [
    {
     "name": "stdout",
     "output_type": "stream",
     "text": [
      "6\n",
      "7\n",
      "8\n",
      "3\n",
      "5\n"
     ]
    }
   ],
   "source": [
    "#Answer 3-\n",
    "\"\"\"\n",
    "An iterator in Python is an object that implements two methods, __iter__() and __next__(), and can be iterated upon. \n",
    "An object is called iterable if it implements the __iter__() method.\n",
    "The __iter__() method returns the iterator object itself, and the __next__() method returns the next value in the sequence.\n",
    "When there are no more items to return, the __next__() method should raise StopIteration.\n",
    "\n",
    "To get an iterator from a list, we can use the iter() method.\n",
    "Here's an example of using the iterator to print the first five elements of the list [2, 4, 6, 8, 10, 12, 14, 16, 18, 20]:\"\"\"\n",
    "\n",
    "\n",
    "l1= [6,7,8,3,5,7,9,2]\n",
    "itreator = iter(l1)\n",
    "\n",
    "for i in range(5):\n",
    "    print(next(itreator))"
   ]
  },
  {
   "cell_type": "code",
   "execution_count": 5,
   "id": "c1023968-a1eb-4f60-bd21-ad37bc0060b0",
   "metadata": {},
   "outputs": [
    {
     "name": "stdout",
     "output_type": "stream",
     "text": [
      "0\n",
      "1\n",
      "4\n",
      "9\n",
      "16\n",
      "25\n",
      "36\n",
      "49\n",
      "64\n",
      "81\n"
     ]
    }
   ],
   "source": [
    "#Answer 4-\n",
    "\"\"\"\n",
    "A generator function in Python is a special type of function that allows you to generate a sequence of values,\n",
    "one at a time, instead of computing them all at once and storing them in memory.\n",
    "A generator function is defined like a normal function, but instead of using the return keyword,\n",
    "it uses the yield keyword to return a value and pause the function's execution. \n",
    "The function can then be resumed from where it left off the next time it's called.\n",
    "\n",
    "The yield keyword is used in a generator function to return a value and pause the function's execution.\n",
    "When a generator function is called, it returns a generator object,\n",
    "which can be used to iterate over the values produced by the generator function.\n",
    "Each time the next method is called on the generator object, \n",
    "the generator function resumes its execution and runs until it encounters another yield statement.\n",
    "\n",
    "Here's an example of a generator function in Python that generates the fibonacci sequence:\"\"\"\n",
    "\n",
    "\n",
    "def squares(n):\n",
    "    for i in range(n):\n",
    "        yield i**2\n",
    "\n",
    "for num in squares(10):\n",
    "    print(num)"
   ]
  },
  {
   "cell_type": "code",
   "execution_count": 2,
   "id": "53811da9-960e-4bc2-952f-5576fdd6cde2",
   "metadata": {},
   "outputs": [
    {
     "name": "stdout",
     "output_type": "stream",
     "text": [
      "2\n",
      "3\n",
      "5\n",
      "7\n",
      "11\n",
      "13\n",
      "17\n",
      "19\n",
      "23\n",
      "29\n",
      "31\n",
      "37\n",
      "41\n",
      "43\n",
      "47\n",
      "53\n",
      "59\n",
      "61\n",
      "67\n",
      "71\n"
     ]
    }
   ],
   "source": [
    "#Answer 5-\n",
    "\n",
    "n=20\n",
    "def primegenerator():\n",
    "    for i in range(2,1000):\n",
    "        for num in range(2,i):\n",
    "            if i%num==0:\n",
    "                break\n",
    "        else:\n",
    "                yield i\n",
    "prime=primegenerator()\n",
    "for i in range (n):\n",
    "    print(next(prime))\n"
   ]
  },
  {
   "cell_type": "code",
   "execution_count": 15,
   "id": "9e7a7633-2cb3-4fb1-88d8-fc4dfa2f300f",
   "metadata": {},
   "outputs": [
    {
     "name": "stdin",
     "output_type": "stream",
     "text": [
      "Enter the number to find Febonacci numbers 10\n"
     ]
    },
    {
     "name": "stdout",
     "output_type": "stream",
     "text": [
      "0\n",
      "1\n",
      "1\n",
      "2\n",
      "3\n",
      "5\n",
      "8\n",
      "13\n",
      "21\n",
      "34\n"
     ]
    }
   ],
   "source": [
    "#Answer 6-\n",
    "n=int(input(\"Enter the number to find Febonacci numbers\"))\n",
    "a,b=0,1\n",
    "i=0\n",
    "while(i<n):\n",
    "    print(a)\n",
    "    a,b=b,a+b\n",
    "    i+=1"
   ]
  },
  {
   "cell_type": "code",
   "execution_count": 3,
   "id": "0a4bb62f-d33f-444c-a173-5d33417fa256",
   "metadata": {},
   "outputs": [
    {
     "data": {
      "text/plain": [
       "['p', 'w', 's', 'k', 'i', 'l', 'l', 's']"
      ]
     },
     "execution_count": 3,
     "metadata": {},
     "output_type": "execute_result"
    }
   ],
   "source": [
    "#Answer 7-\n",
    "\n",
    "string=\"pwskills\"\n",
    "[i for i in string] "
   ]
  },
  {
   "cell_type": "code",
   "execution_count": 21,
   "id": "c7cd1e53-a5e9-42e7-8037-3eba6768809e",
   "metadata": {},
   "outputs": [
    {
     "name": "stdin",
     "output_type": "stream",
     "text": [
      "Enter a Numbe 123321\n"
     ]
    },
    {
     "name": "stdout",
     "output_type": "stream",
     "text": [
      "Nume is palindrome\n"
     ]
    }
   ],
   "source": [
    "#Answer 8-\n",
    "def palindrome(n):\n",
    "    temp = n\n",
    "    reverse = 0\n",
    "\n",
    "    while temp > 0:\n",
    "        reverse = (reverse * 10) + (temp % 10)\n",
    "        temp = temp // 10\n",
    "\n",
    "    return reverse == n\n",
    "n =int(input(\"Enter a Numbe\")) \n",
    "if palindrome(n):\n",
    "    print(\"Nume is palindrome\")\n",
    "else:\n",
    "    print(\"Number is not a palindrome!!\")\n",
    "\n",
    "\n"
   ]
  },
  {
   "cell_type": "code",
   "execution_count": 33,
   "id": "2412dc04-2cff-475e-9d7d-3fa392528378",
   "metadata": {},
   "outputs": [
    {
     "name": "stdout",
     "output_type": "stream",
     "text": [
      "[1, 3, 5, 7, 9, 11, 13, 15, 17, 19, 21, 23, 25, 27, 29, 31, 33, 35, 37, 39, 41, 43, 45, 47, 49, 51, 53, 55, 57, 59, 61, 63, 65, 67, 69, 71, 73, 75, 77, 79, 81, 83, 85, 87, 89, 91, 93, 95, 97, 99]\n"
     ]
    }
   ],
   "source": [
    "#Answer 9-\n",
    "l=[i for i in range(1,101)]\n",
    "l2=[ i   for i in l if i%2!=0]\n",
    "print(l2)"
   ]
  }
 ],
 "metadata": {
  "kernelspec": {
   "display_name": "Python 3 (ipykernel)",
   "language": "python",
   "name": "python3"
  },
  "language_info": {
   "codemirror_mode": {
    "name": "ipython",
    "version": 3
   },
   "file_extension": ".py",
   "mimetype": "text/x-python",
   "name": "python",
   "nbconvert_exporter": "python",
   "pygments_lexer": "ipython3",
   "version": "3.10.6"
  }
 },
 "nbformat": 4,
 "nbformat_minor": 5
}
