{
 "cells": [
  {
   "cell_type": "code",
   "execution_count": 61,
   "id": "57c6d44d",
   "metadata": {},
   "outputs": [],
   "source": [
    "def pswd_checker(pswd):\n",
    "    if len(pswd)<10:\n",
    "        return \"Invalid Password \"\n",
    "    upper_count=0\n",
    "    lower_count=0\n",
    "    digit_count=0\n",
    "    special_character=set('!@#$%^&*(),.?\":{}|<>')\n",
    "    special_count=0\n",
    "    for i in pswd:\n",
    "        if i.isupper():\n",
    "            upper_count=upper_count+1\n",
    "        elif i.islower():\n",
    "            lower_count=lower_count+1\n",
    "        elif i.isdigit():\n",
    "            digit_count=digit_count+1\n",
    "        \n",
    "        elif i in special_character:\n",
    "            special_count=special_count+1\n",
    "            \n",
    "    if upper_count>=2 and lower_count>=2 and digit_count>=1 and special_count>=3:\n",
    "        return \"Valid Password\"\n",
    "    \n",
    "    return \"Invalid Password\""
   ]
  },
  {
   "cell_type": "code",
   "execution_count": 64,
   "id": "4e440f2f",
   "metadata": {},
   "outputs": [
    {
     "name": "stdout",
     "output_type": "stream",
     "text": [
      "Enter Your PasswordAAaa1@@@aA2@\n"
     ]
    },
    {
     "data": {
      "text/plain": [
       "'Valid Password'"
      ]
     },
     "execution_count": 64,
     "metadata": {},
     "output_type": "execute_result"
    }
   ],
   "source": [
    "pswd=input(\"Enter Your Password\")\n",
    "pswd_checker(pswd)"
   ]
  },
  {
   "cell_type": "code",
   "execution_count": 10,
   "id": "47d82d7c",
   "metadata": {},
   "outputs": [
    {
     "data": {
      "text/plain": [
       "'  ---- A N S W E R ---- [2] ---- S T A R T ---- F R O M ---- H E R E   '"
      ]
     },
     "execution_count": 10,
     "metadata": {},
     "output_type": "execute_result"
    }
   ],
   "source": [
    " \" \" \" ---- A N S W E R ---- [2] ---- S T A R T ---- F R O M ---- H E R E  \" \" \" "
   ]
  },
  {
   "cell_type": "code",
   "execution_count": 3,
   "id": "edfdf340",
   "metadata": {},
   "outputs": [
    {
     "name": "stdout",
     "output_type": "stream",
     "text": [
      "True\n",
      "False\n"
     ]
    }
   ],
   "source": [
    "#1-\n",
    "\"\"\"Check if the string starts with a particular letter\"\"\"\n",
    "starts_with = lambda string, letter: string.startswith(letter)\n",
    "print(starts_with(\"Hello\", \"H\"))  # Output: True\n",
    "print(starts_with(\"Hello\", \"h\"))  # Output: False"
   ]
  },
  {
   "cell_type": "code",
   "execution_count": 2,
   "id": "64b0dc7f",
   "metadata": {},
   "outputs": [
    {
     "name": "stdout",
     "output_type": "stream",
     "text": [
      "True\n",
      "False\n"
     ]
    }
   ],
   "source": [
    "#2-\n",
    "\"\"\"Check if the string is numeric\"\"\"\n",
    "numeric= lambda string: string.isdigit()\n",
    "print(numeric(\"1233\"))\n",
    "print(numeric(\"data scientist\"))"
   ]
  },
  {
   "cell_type": "code",
   "execution_count": 4,
   "id": "a8bd313b",
   "metadata": {},
   "outputs": [
    {
     "name": "stdout",
     "output_type": "stream",
     "text": [
      "[80, 99, 1000]\n",
      "['grapes', 'mango', 'orange']\n"
     ]
    }
   ],
   "source": [
    "#3-\n",
    "\"\"\"Sort a list of tuples having fruit names and their quantity. [(\"mango\",99),(\"orange\",80), (\"grapes\", 1000)]\"\"\"\n",
    "li=[(\"mango\",99),(\"orange\",80), (\"grapes\", 1000)]\n",
    "amount=sorted([ i[1] for i in li])\n",
    "fruit_name=sorted([i[0] for i in li])\n",
    "print(amount)\n",
    "print(fruit_name)"
   ]
  },
  {
   "cell_type": "code",
   "execution_count": 5,
   "id": "cd649a14",
   "metadata": {},
   "outputs": [
    {
     "name": "stdout",
     "output_type": "stream",
     "text": [
      "[0, 1, 4, 9, 16, 25, 36, 49, 64, 81, 100]\n"
     ]
    }
   ],
   "source": [
    "#4-\n",
    "\n",
    "\"\"\"Find the squares of numbers from 1 to 10\"\"\"\n",
    "List=[ i for i in range(0,11)]\n",
    "square= list(map(lambda x: x**2,List))\n",
    "print(square)"
   ]
  },
  {
   "cell_type": "code",
   "execution_count": 6,
   "id": "e99fbb80",
   "metadata": {},
   "outputs": [
    {
     "name": "stdout",
     "output_type": "stream",
     "text": [
      "[0, 1, 8, 27, 64, 125, 216, 343, 512, 729, 1000]\n"
     ]
    }
   ],
   "source": [
    "#5-\n",
    "\n",
    "\"\"\"Find the cube root of numbers from 1 to 10\"\"\"\n",
    "\n",
    "cube=list(map(lambda x: x**3, List))\n",
    "print(cube)"
   ]
  },
  {
   "cell_type": "code",
   "execution_count": 7,
   "id": "3233831d",
   "metadata": {},
   "outputs": [
    {
     "name": "stdout",
     "output_type": "stream",
     "text": [
      "[0, 2, 4, 6, 8, 10]\n"
     ]
    }
   ],
   "source": [
    "#6-\n",
    "\"\"\"Check if a given number is even\"\"\"\n",
    "\n",
    "ifeven=list(filter(lambda x: x%2==0,List))\n",
    "print(ifeven)"
   ]
  },
  {
   "cell_type": "code",
   "execution_count": 8,
   "id": "d95aa61d",
   "metadata": {},
   "outputs": [
    {
     "name": "stdout",
     "output_type": "stream",
     "text": [
      "[1, 3, 5, 7, 9]\n"
     ]
    }
   ],
   "source": [
    "#7-\n",
    "\"\"\"Filter odd numbers from the given list.\n",
    "[1,2,3,4,5,6,7,8,9,10\"]\"\"\"\n",
    "\n",
    "ifodd=list(filter(lambda x: x%2!=0,List))\n",
    "print(ifodd)\n"
   ]
  },
  {
   "cell_type": "code",
   "execution_count": 9,
   "id": "70ffd393",
   "metadata": {},
   "outputs": [
    {
     "name": "stdout",
     "output_type": "stream",
     "text": [
      "Positive integers: [1, 2, 3, 4, 5, 6]\n",
      "Negative integers: [-1, -2, -3, -4, -5]\n"
     ]
    }
   ],
   "source": [
    "#8-\n",
    "\"\"\"Sort a list of integers into positive and negative integers lists.\n",
    "[1,2,3,4,5,6,-1,-2,-3,-4,-5,0]\"\"\"\n",
    "\n",
    "def sort_integers(input_list):\n",
    "    positive_integers = []\n",
    "    negative_integers = []\n",
    "    \n",
    "    for num in input_list:\n",
    "        if num > 0:\n",
    "            positive_integers.append(num)\n",
    "        elif num < 0:\n",
    "            negative_integers.append(num)\n",
    "    \n",
    "    return positive_integers, negative_integers\n",
    "\n",
    "input_list = [1, 2, 3, 4, 5, 6, -1, -2, -3, -4, -5, 0]\n",
    "positive_integers, negative_integers = sort_integers(input_list)\n",
    "\n",
    "print(\"Positive integers:\", positive_integers)\n",
    "print(\"Negative integers:\", negative_integers)\n"
   ]
  }
 ],
 "metadata": {
  "kernelspec": {
   "display_name": "Python 3 (ipykernel)",
   "language": "python",
   "name": "python3"
  },
  "language_info": {
   "codemirror_mode": {
    "name": "ipython",
    "version": 3
   },
   "file_extension": ".py",
   "mimetype": "text/x-python",
   "name": "python",
   "nbconvert_exporter": "python",
   "pygments_lexer": "ipython3",
   "version": "3.9.13"
  }
 },
 "nbformat": 4,
 "nbformat_minor": 5
}
