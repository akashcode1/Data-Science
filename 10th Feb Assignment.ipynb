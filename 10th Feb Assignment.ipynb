{
 "cells": [
  {
   "cell_type": "code",
   "execution_count": 54,
   "id": "76bc10c1",
   "metadata": {},
   "outputs": [
    {
     "data": {
      "text/plain": [
       "'\\nIn Python, the open() function is used to open a file. The open() function returns a file object that we can use to read from or write to the file.\\nThe open() function takes two arguments: the filename and the mode in which to open the file. The mode specifies whether we want to read from the file, write to the file, or both.\\nHere are the different modes of opening a file in Python:\\n\\n1-Read mode (\"r\"): This mode is used to open a file for reading. The file must exist, and it can only be read from. If the file doesn\\'t exist, Python will raise a FileNotFoundError. The file pointer is positioned at the beginning of the file.\\n\\n2-Write mode (\"w\"): This mode is used to open a file for writing. If the file already exists, its contents are truncated. If the file doesn\\'t exist, Python creates a new file. The file pointer is positioned at the beginning of the file.\\n\\n3-Append mode (\"a\"): This mode is used to open a file for appending. If the file already exists, new data is appended to the end of the file. If the file doesn\\'t exist, Python creates a new file. The file pointer is positioned at the end of the file.\\n\\n4-Binary mode (\"b\"): This mode is used to open a file in binary mode. Binary mode is used when working with non-text files, such as image files or audio files.\\n\\n5-Read and write mode (\"r+\"): This mode is used to open a file for reading and writing. The file pointer is positioned at the beginning of the file.\\n\\n6-Write and read mode (\"w+\"): This mode is used to open a file for reading and writing. If the file already exists, its contents are truncated. If the file doesn\\'t exist, Python creates a new file. The file pointer is positioned at the beginning of the file.\\n\\n7-Append and read mode (\"a+\"): This mode is used to open a file for appending and reading. If the file already exists, new data is appended to the end of the file. If the file doesn\\'t exist, Python creates a new file. The file pointer is positioned at the end of the file.\\n'"
      ]
     },
     "execution_count": 54,
     "metadata": {},
     "output_type": "execute_result"
    }
   ],
   "source": [
    "#Answer 1-\n",
    "\"\"\"\n",
    "In Python, the open() function is used to open a file. The open() function returns a file object that we can use to read from or write to the file.\n",
    "The open() function takes two arguments: the filename and the mode in which to open the file. The mode specifies whether we want to read from the file, write to the file, or both.\n",
    "Here are the different modes of opening a file in Python:\n",
    "\n",
    "1-Read mode (\"r\"): This mode is used to open a file for reading. The file must exist, and it can only be read from. If the file doesn't exist, Python will raise a FileNotFoundError. The file pointer is positioned at the beginning of the file.\n",
    "\n",
    "2-Write mode (\"w\"): This mode is used to open a file for writing. If the file already exists, its contents are truncated. If the file doesn't exist, Python creates a new file. The file pointer is positioned at the beginning of the file.\n",
    "\n",
    "3-Append mode (\"a\"): This mode is used to open a file for appending. If the file already exists, new data is appended to the end of the file. If the file doesn't exist, Python creates a new file. The file pointer is positioned at the end of the file.\n",
    "\n",
    "4-Binary mode (\"b\"): This mode is used to open a file in binary mode. Binary mode is used when working with non-text files, such as image files or audio files.\n",
    "\n",
    "5-Read and write mode (\"r+\"): This mode is used to open a file for reading and writing. The file pointer is positioned at the beginning of the file.\n",
    "\n",
    "6-Write and read mode (\"w+\"): This mode is used to open a file for reading and writing. If the file already exists, its contents are truncated. If the file doesn't exist, Python creates a new file. The file pointer is positioned at the beginning of the file.\n",
    "\n",
    "7-Append and read mode (\"a+\"): This mode is used to open a file for appending and reading. If the file already exists, new data is appended to the end of the file. If the file doesn't exist, Python creates a new file. The file pointer is positioned at the end of the file.\n",
    "\"\"\""
   ]
  },
  {
   "cell_type": "code",
   "execution_count": 55,
   "id": "c28a662c",
   "metadata": {},
   "outputs": [
    {
     "data": {
      "text/plain": [
       "\"\\nClosing a file is important for several reasons:\\n\\n1-Release resources: When a file is opened, the operating system allocates resources to it, such as memory and CPU time. Closing the file releases these resources back to the operating system.\\n\\n2-Write data to the file: If we're writing to a file, the close() method flushes any buffered data to the file before closing it. If we don't close the file, any buffered data may not be written to the file.\\n\\n3-Avoid data corruption: If we don't close a file after writing to it, the file may become corrupted. Closing the file ensures that all data has been written to the file and that it's safe to open and read from it later.\\n\\n4-Avoid file locking: Some operating systems lock files while they're being accessed. If we don't close the file after reading from it, the file may remain locked and inaccessible to other programs.\\n\\nIn summary, it's important to close a file using the close() method to release resources, write data to the file, avoid data corruption, and avoid file locking.\\n\""
      ]
     },
     "execution_count": 55,
     "metadata": {},
     "output_type": "execute_result"
    }
   ],
   "source": [
    "#Answer 2-\n",
    "\"\"\"\n",
    "Closing a file is important for several reasons:\n",
    "\n",
    "1-Release resources: When a file is opened, the operating system allocates resources to it, such as memory and CPU time. Closing the file releases these resources back to the operating system.\n",
    "\n",
    "2-Write data to the file: If we're writing to a file, the close() method flushes any buffered data to the file before closing it. If we don't close the file, any buffered data may not be written to the file.\n",
    "\n",
    "3-Avoid data corruption: If we don't close a file after writing to it, the file may become corrupted. Closing the file ensures that all data has been written to the file and that it's safe to open and read from it later.\n",
    "\n",
    "4-Avoid file locking: Some operating systems lock files while they're being accessed. If we don't close the file after reading from it, the file may remain locked and inaccessible to other programs.\n",
    "\n",
    "In summary, it's important to close a file using the close() method to release resources, write data to the file, avoid data corruption, and avoid file locking.\n",
    "\"\"\""
   ]
  },
  {
   "cell_type": "code",
   "execution_count": 56,
   "id": "2a11ad5e",
   "metadata": {},
   "outputs": [
    {
     "name": "stdout",
     "output_type": "stream",
     "text": [
      "I want to become a Data Scientist\n"
     ]
    }
   ],
   "source": [
    "#Answer 3-\n",
    "file = open(\"data_scientist.txt\", \"w\")\n",
    "\n",
    "file.write(\"I want to become a Data Scientist\")\n",
    "\n",
    "file.close()\n",
    "\n",
    "file = open(\"data_scientist.txt\", \"r\")\n",
    "\n",
    "contents = file.read()\n",
    "\n",
    "print(contents)\n",
    "\n",
    "file.close()\n"
   ]
  },
  {
   "cell_type": "code",
   "execution_count": 57,
   "id": "387d412f",
   "metadata": {},
   "outputs": [],
   "source": [
    "#ANswer 4-\n",
    "file = open(\"example.txt\", \"w\")\n",
    "data= \"\"\"Modi was born and raised in Vadnagar in northeastern Gujarat, where he completed his secondary education. He was introduced to the RSS at age eight. He has reminisced about helping out after school at his father's tea stall at the Vadnagar railway station. At age 18, Modi was married to Jashodaben Chimanlal Modi, whom he abandoned soon after. He first publicly acknowledged her as his wife more than four decades later when required to do so by Indian law, but has made no contact with her since. Modi has asserted he had travelled in northern India for two years after leaving his parental home, visiting a number of religious centres, but few details of his travels have emerged. Upon his return to Gujarat in 1971, he became a full-time worker for the RSS. After the state of emergency was declared by prime minister Indira Gandhi in 1975, Modi went into hiding. The RSS assigned him to the BJP in 1985 and he held several positions within the party hierarchy until 2001, rising to the rank of general secretary\n",
    "Modi was appointed Chief Minister of Gujarat in 2001 due to Keshubhai Patel failing health and poor public image following the earthquake in Bhuj. Modi was elected to the legislative assembly soon after. His administration has been considered complicit in the 2002 Gujarat riots in which 1044 people were killed, three-quarters of whom were Muslim,[d] or otherwise criticised for its management of the crisis. A Special Investigation Team appointed by the Supreme Court of India found no evidence to initiate prosecution proceedings against Modi personally.[e] While his policies as chief minister—credited with encouraging economic growth—have received praise, his administration was criticised for failing to significantly improve health, poverty and education indices in the state.\n",
    "Modi led the BJP in the 2014 general election which gave the party a majority in the lower house of Indian parliament, the Lok Sabha, the first time for any single party since 1984. Modi administration has tried to raise foreign direct investment in the Indian economy and reduced spending on healthcare, education, and social welfare programmes. Modi centralised power by abolishing the Planning Commission and replacing it with the NITI Aayog. He began a high-profile sanitation campaign, controversially initiated a demonetisation of high-denomination banknotes and a transformation of the taxation regime, and weakened or abolished environmental and labour laws. He oversaw the country\"\"\"\n",
    "file.write(data)\n",
    "file.close()"
   ]
  },
  {
   "cell_type": "code",
   "execution_count": 49,
   "id": "0f7151e8",
   "metadata": {},
   "outputs": [
    {
     "name": "stdout",
     "output_type": "stream",
     "text": [
      "Modi was born and raised in Vadnagar in northeastern Gujarat, where he completed his secondary education. He was introduced to the RSS at age eight. He has reminisced about helping out after school at his father's tea stall at the Vadnagar railway station. At age 18, Modi was married to Jashodaben Chimanlal Modi, whom he abandoned soon after. He first publicly acknowledged her as his wife more than four decades later when required to do so by Indian law, but has made no contact with her since. Modi has asserted he had travelled in northern India for two years after leaving his parental home, visiting a number of religious centres, but few details of his travels have emerged. Upon his return to Gujarat in 1971, he became a full-time worker for the RSS. After the state of emergency was declared by prime minister Indira Gandhi in 1975, Modi went into hiding. The RSS assigned him to the BJP in 1985 and he held several positions within the party hierarchy until 2001, rising to the rank of general secretary\n",
      "Modi was appointed Chief Minister of Gujarat in 2001 due to Keshubhai Patel failing health and poor public image following the earthquake in Bhuj. Modi was elected to the legislative assembly soon after. His administration has been considered complicit in the 2002 Gujarat riots in which 1044 people were killed, three-quarters of whom were Muslim,[d] or otherwise criticised for its management of the crisis. A Special Investigation Team appointed by the Supreme Court of India found no evidence to initiate prosecution proceedings against Modi personally.[e] While his policies as chief minister—credited with encouraging economic growth—have received praise, his administration was criticised for failing to significantly improve health, poverty and education indices in the state.\n",
      "Modi led the BJP in the 2014 general election which gave the party a majority in the lower house of Indian parliament, the Lok Sabha, the first time for any single party since 1984. Modi administration has tried to raise foreign direct investment in the Indian economy and reduced spending on healthcare, education, and social welfare programmes. Modi centralised power by abolishing the Planning Commission and replacing it with the NITI Aayog. He began a high-profile sanitation campaign, controversially initiated a demonetisation of high-denomination banknotes and a transformation of the taxation regime, and weakened or abolished environmental and labour laws. He oversaw the country\n"
     ]
    }
   ],
   "source": [
    "#READ()\n",
    "file = open(\"example.txt\", \"r\")\n",
    "contents = file.read()\n",
    "print(contents)\n",
    "file.close()\n",
    "\"\"\"\n",
    "In this Code, the read() method is used to read the entire contents of the file. The contents of the file are then printed to the console.\n",
    "\"\"\""
   ]
  },
  {
   "cell_type": "code",
   "execution_count": 58,
   "id": "7c9a6a3f",
   "metadata": {},
   "outputs": [
    {
     "name": "stdout",
     "output_type": "stream",
     "text": [
      "Modi was born and raised in Vadnagar in northeastern Gujarat, where he completed his secondary education. He was introduced to the RSS at age eight. He has reminisced about helping out after school at his father's tea stall at the Vadnagar railway station. At age 18, Modi was married to Jashodaben Chimanlal Modi, whom he abandoned soon after. He first publicly acknowledged her as his wife more than four decades later when required to do so by Indian law, but has made no contact with her since. Modi has asserted he had travelled in northern India for two years after leaving his parental home, visiting a number of religious centres, but few details of his travels have emerged. Upon his return to Gujarat in 1971, he became a full-time worker for the RSS. After the state of emergency was declared by prime minister Indira Gandhi in 1975, Modi went into hiding. The RSS assigned him to the BJP in 1985 and he held several positions within the party hierarchy until 2001, rising to the rank of general secretary\n",
      "\n",
      "Modi was appointed Chief Minister of Gujarat in 2001 due to Keshubhai Patel failing health and poor public image following the earthquake in Bhuj. Modi was elected to the legislative assembly soon after. His administration has been considered complicit in the 2002 Gujarat riots in which 1044 people were killed, three-quarters of whom were Muslim,[d] or otherwise criticised for its management of the crisis. A Special Investigation Team appointed by the Supreme Court of India found no evidence to initiate prosecution proceedings against Modi personally.[e] While his policies as chief minister—credited with encouraging economic growth—have received praise, his administration was criticised for failing to significantly improve health, poverty and education indices in the state.\n",
      "\n"
     ]
    },
    {
     "data": {
      "text/plain": [
       "'\\nIn this Code, the readline() method is used to read the first line of the file. The first line is then printed to the console. The readline() method is then used again to read the second line of the file, which is also printed to the console.\\n'"
      ]
     },
     "execution_count": 58,
     "metadata": {},
     "output_type": "execute_result"
    }
   ],
   "source": [
    "#READLINE()\n",
    "\n",
    "file = open(\"example.txt\", \"r\")\n",
    "line1 = file.readline()\n",
    "print(line1)\n",
    "line2 = file.readline()\n",
    "print(line2)\n",
    "file.close()\n",
    "\"\"\"\n",
    "In this Code, the readline() method is used to read the first line of the file. The first line is then printed to the console. The readline() method is then used again to read the second line of the file, which is also printed to the console.\n",
    "\"\"\""
   ]
  },
  {
   "cell_type": "code",
   "execution_count": 46,
   "id": "620f2877",
   "metadata": {},
   "outputs": [
    {
     "name": "stdout",
     "output_type": "stream",
     "text": [
      "Modi was born and raised in Vadnagar in northeastern Gujarat, where he completed his secondary education. He was introduced to the RSS at age eight. He has reminisced about helping out after school at his father's tea stall at the Vadnagar railway station. At age 18, Modi was married to Jashodaben Chimanlal Modi, whom he abandoned soon after. He first publicly acknowledged her as his wife more than four decades later when required to do so by Indian law, but has made no contact with her since. Modi has asserted he had travelled in northern India for two years after leaving his parental home, visiting a number of religious centres, but few details of his travels have emerged. Upon his return to Gujarat in 1971, he became a full-time worker for the RSS. After the state of emergency was declared by prime minister Indira Gandhi in 1975, Modi went into hiding. The RSS assigned him to the BJP in 1985 and he held several positions within the party hierarchy until 2001, rising to the rank of general secretary\n",
      "\n",
      "Modi was appointed Chief Minister of Gujarat in 2001 due to Keshubhai Patel failing health and poor public image following the earthquake in Bhuj. Modi was elected to the legislative assembly soon after. His administration has been considered complicit in the 2002 Gujarat riots in which 1044 people were killed, three-quarters of whom were Muslim,[d] or otherwise criticised for its management of the crisis. A Special Investigation Team appointed by the Supreme Court of India found no evidence to initiate prosecution proceedings against Modi personally.[e] While his policies as chief minister—credited with encouraging economic growth—have received praise, his administration was criticised for failing to significantly improve health, poverty and education indices in the state.\n",
      "\n",
      "Modi led the BJP in the 2014 general election which gave the party a majority in the lower house of Indian parliament, the Lok Sabha, the first time for any single party since 1984. Modi administration has tried to raise foreign direct investment in the Indian economy and reduced spending on healthcare, education, and social welfare programmes. Modi centralised power by abolishing the Planning Commission and replacing it with the NITI Aayog. He began a high-profile sanitation campaign, controversially initiated a demonetisation of high-denomination banknotes and a transformation of the taxation regime, and weakened or abolished environmental and labour laws. He oversaw the country\n"
     ]
    }
   ],
   "source": [
    "#READLINES()\n",
    "\n",
    "file = open(\"example.txt\", \"r\")\n",
    "lines = file.readlines()\n",
    "for line in lines:\n",
    "    print(line)\n",
    "file.close()\n",
    "\n",
    "\"\"\"\n",
    "In this Code, the readlines() method is used to read all the lines from the file. The lines are then printed to the console using a for loop\n",
    "\"\"\""
   ]
  },
  {
   "cell_type": "code",
   "execution_count": 59,
   "id": "512cd76b",
   "metadata": {},
   "outputs": [
    {
     "data": {
      "text/plain": [
       "\"\\nThe with statement is used with open() to manage the opening and closing of files in Python. \\nWhen you open a file using open(), you must close the file when you're done with it to avoid wasting resources or potential \\ndata corruption.\\n\\nThe with statement ensures that the file is closed automatically when the block of code is exited, whether it exits normally or due to an exception.\\nThis is done using the context manager protocol, which is implemented by the open() function.\\n\\nADVANTAGE:-\\n\\nThe advantage of using the with statement with open() is that it provides a cleaner and more readable way of managing file resources in your code. \\nIt also helps to avoid errors caused by forgetting to close files manually. Additionally, using with can lead to more efficient use of system resources \\nbecause it ensures that files are closed as soon as they're no longer needed.\\n\\n\\n\""
      ]
     },
     "execution_count": 59,
     "metadata": {},
     "output_type": "execute_result"
    }
   ],
   "source": [
    "#Answer 5-\n",
    "\"\"\"\n",
    "The with statement is used with open() to manage the opening and closing of files in Python. \n",
    "When you open a file using open(), you must close the file when you're done with it to avoid wasting resources or potential \n",
    "data corruption.\n",
    "\n",
    "The with statement ensures that the file is closed automatically when the block of code is exited, whether it exits normally or due to an exception.\n",
    "This is done using the context manager protocol, which is implemented by the open() function.\n",
    "\n",
    "ADVANTAGE:-\n",
    "\n",
    "The advantage of using the with statement with open() is that it provides a cleaner and more readable way of managing file resources in your code. \n",
    "It also helps to avoid errors caused by forgetting to close files manually. Additionally, using with can lead to more efficient use of system resources \n",
    "because it ensures that files are closed as soon as they're no longer needed.\n",
    "\n",
    "\n",
    "\"\"\"\n",
    "\n"
   ]
  },
  {
   "cell_type": "code",
   "execution_count": 60,
   "id": "0fe5e7f7",
   "metadata": {},
   "outputs": [],
   "source": [
    "#ANswer 6-\n",
    "\n",
    "\"\"\"\n",
    "write() function writes a string to a file, while the writelines() function writes a list of strings to a file. \n",
    "Both of these functions are used in conjunction with the open() function to create a file object that you can write to.\n",
    "\n",
    "\"\"\"\n",
    "#WRITE FUNCTION\n",
    "with open('example1.txt', 'w') as file:\n",
    "    file.write('Hello, world!\\n')\n"
   ]
  },
  {
   "cell_type": "code",
   "execution_count": 61,
   "id": "9e5b6e74",
   "metadata": {},
   "outputs": [],
   "source": [
    "#WRITELINES\n",
    "with open('example2.txt', 'w') as file:\n",
    "    lines = ['line 1\\n', 'line 2\\n', 'line 3\\n']\n",
    "    file.writelines(lines)\n"
   ]
  }
 ],
 "metadata": {
  "kernelspec": {
   "display_name": "Python 3 (ipykernel)",
   "language": "python",
   "name": "python3"
  },
  "language_info": {
   "codemirror_mode": {
    "name": "ipython",
    "version": 3
   },
   "file_extension": ".py",
   "mimetype": "text/x-python",
   "name": "python",
   "nbconvert_exporter": "python",
   "pygments_lexer": "ipython3",
   "version": "3.9.13"
  }
 },
 "nbformat": 4,
 "nbformat_minor": 5
}
