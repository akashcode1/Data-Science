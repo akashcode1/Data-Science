{
 "cells": [
  {
   "cell_type": "code",
   "execution_count": null,
   "id": "3ef6ac1a-5b54-43cb-95a9-03ce3a8ce89a",
   "metadata": {},
   "outputs": [],
   "source": [
    "#Answer1\n",
    "n=int(input(\"Enter YOur Marks\"))\n",
    "if n>90:\n",
    "    print(\"Grade A \" )\n",
    "elif n>80 and n<=90:\n",
    "    print(\"Grade B\")\n",
    "elif n>=60 and n<=80:\n",
    "    print(\"Grade C\")\n",
    "elif n<60:\n",
    "    print(\"Grade D\")"
   ]
  },
  {
   "cell_type": "code",
   "execution_count": 42,
   "id": "9d96622b-cbcf-4836-806d-8b63007414d4",
   "metadata": {},
   "outputs": [
    {
     "name": "stdin",
     "output_type": "stream",
     "text": [
      "Enter Bike Cost 100001\n"
     ]
    },
    {
     "name": "stdout",
     "output_type": "stream",
     "text": [
      " 15% Tax on your Cost Price\n",
      "15000\n"
     ]
    }
   ],
   "source": [
    "#Answer 2 \\\n",
    "costPrice = int(input(\"Enter Bike Cost\"))\n",
    "if costPrice>100000:\n",
    "    print(\"15% Tax on your Cost Price\")\n",
    "    print(int((15/100)*costPrice))\n",
    "elif costPrice>50000 and costPrice<=100000:\n",
    "    print(\"10% Tax on your Cost Price\")\n",
    "    print((10/100)*costPrice)\n",
    "elif costPrice<+50000:\n",
    "    print(\"5% Tax on your Cost Price\") \n",
    "    print((5/100)*costPrice)"
   ]
  },
  {
   "cell_type": "code",
   "execution_count": 31,
   "id": "59fa1aca-3ea2-48df-b80f-7b23916edfa0",
   "metadata": {},
   "outputs": [
    {
     "name": "stdin",
     "output_type": "stream",
     "text": [
      "Enter Your City To Find Famous Monument Jaipur\n"
     ]
    },
    {
     "name": "stdout",
     "output_type": "stream",
     "text": [
      "Jal Mahal Is A Famous Monument of Jaipur\n"
     ]
    }
   ],
   "source": [
    "#Answer 3\n",
    "city= input(\"Enter Your City To Find Famous Monument\")\n",
    "if city == \"Delhi\":\n",
    "    print(\"Red Fort Is A Famous Monument of Delhi\") \n",
    "elif city == \"Agra\":\n",
    "    print(\"Taj Mahal Is A Famous Monument of Agra\")\n",
    "elif city == \"Jaipur\":\n",
    "    print(\"Jal Mahal Is A Famous Monument of Jaipur\")\n"
   ]
  },
  {
   "cell_type": "code",
   "execution_count": 47,
   "id": "50047d79-d5da-4ebf-970a-b007748e67b7",
   "metadata": {},
   "outputs": [
    {
     "name": "stdin",
     "output_type": "stream",
     "text": [
      " 40\n"
     ]
    },
    {
     "name": "stdout",
     "output_type": "stream",
     "text": [
      "2\n"
     ]
    }
   ],
   "source": [
    "#Answer 4\n",
    "n=int(input())\n",
    "count = 0\n",
    "while n>10:\n",
    "    n=n/3\n",
    "    count=count+1\n",
    "print(count)    "
   ]
  },
  {
   "cell_type": "code",
   "execution_count": null,
   "id": "9f1e50ed-6393-40eb-a0ae-ade803400e44",
   "metadata": {},
   "outputs": [],
   "source": [
    "#Answer 5\n",
    "\"\"\"In Python, a while loop is used to repeatedly execute a block of code as long as a specified condition is true.\n",
    "It allows for controlled execution of code that can run indefinitely or until a desired outcome is reached.\n",
    "\n",
    "Here is the basic structure of a while loop in Python:\n",
    "\n",
    "\n",
    "while condition:\n",
    "    # Code to be executed while the condition is true\n",
    "The condition is evaluated before each iteration of the loop. If the condition is true, the code inside the loop is executed.\n",
    "If the condition is false, the loop terminates and the program continues with the code after the loop.\n",
    "\n",
    "Here is an example of using a while loop in Python to print the first 10 positive integers:\n",
    "count = 1\n",
    "while count <= 10:\n",
    "    print(count)\n",
    "    count += 1\n",
    "    \n",
    "In this example, the condition count <= 10 is evaluated at the start of each iteration of the loop.\n",
    "If the condition is true, the code inside the loop is executed and the value of count is incremented by 1.\n",
    "If the condition is false, the loop terminates and the program continues with the code after the loop.\n",
    "\n",
    "It's important to note that if the condition in a while loop is always true, the loop will run indefinitely, causing an infinite loop. \n",
    "To avoid this, it's important to ensure that the condition will eventually become false, otherwise the loop will never terminate.\"\"\""
   ]
  },
  {
   "cell_type": "code",
   "execution_count": 55,
   "id": "d2e3fe65-6bd2-4d8b-9eea-fd0fdfcb91aa",
   "metadata": {},
   "outputs": [
    {
     "name": "stdout",
     "output_type": "stream",
     "text": [
      " *  \n",
      " *  *  \n",
      " *  *  *  \n",
      " *  *  *  *  \n",
      " *  *  *  *  *  \n",
      " *  *  *  *  *  *  \n"
     ]
    }
   ],
   "source": [
    "##Answer 6 (1 Pattern)\n",
    "n=5\n",
    "i=0\n",
    "while i<=n:\n",
    "    j=0\n",
    "    while j<=i:\n",
    "        print(\" * \",end=\"\")\n",
    "        j=j+1\n",
    "    print(\" \")\n",
    "    i=i+1"
   ]
  },
  {
   "cell_type": "code",
   "execution_count": null,
   "id": "2271a39b-1d5c-4939-bf59-b03760d4696b",
   "metadata": {},
   "outputs": [],
   "source": [
    "# (pattern - 2)\n",
    "rows = 5\n",
    "for i in range(1, rows+1):\n",
    "    k = rows - i\n",
    "    while k > 0:\n",
    "        print(\" \", end=\" \")\n",
    "        k -= 1\n",
    "    j = 1\n",
    "    while j <= i:\n",
    "        print(\"*\", end=\" \")\n",
    "        j += 1\n",
    "    print(\"\")\n",
    "\n"
   ]
  },
  {
   "cell_type": "code",
   "execution_count": null,
   "id": "2bb0fe8b-ebaf-44b6-93f3-8ce517e33bf5",
   "metadata": {},
   "outputs": [],
   "source": [
    "#(Pattern 3)\n",
    "rows = 5\n",
    "for i in range(1, rows+1):\n",
    "    k = rows - i\n",
    "    while k > 0:\n",
    "        print(\" \", end=\" \")\n",
    "        k -= 1\n",
    "    j = 1\n",
    "    while j <= i:\n",
    "        print(\"*\", end=\" \")\n",
    "        j += 1\n",
    "    print(\"\")\n",
    "\n",
    "for i in range(rows-1, 0, -1):\n",
    "    k = rows - i\n",
    "    while k > 0:\n",
    "        print(\" \", end=\" \")\n",
    "        k -= 1\n",
    "    j = 1\n",
    "    while j <= i:\n",
    "        print(\"*\", end=\" \")\n",
    "        j += 1\n",
    "    print(\"\")\n"
   ]
  },
  {
   "cell_type": "code",
   "execution_count": null,
   "id": "60f33589-255d-44fb-bc13-2b5c83d70407",
   "metadata": {},
   "outputs": [],
   "source": [
    "#Answer 7-\n",
    "n=10\n",
    "while n>0:\n",
    "    print(n)\n",
    "    n=n-1\n",
    "    "
   ]
  },
  {
   "cell_type": "code",
   "execution_count": null,
   "id": "c6cb33de-b01f-4fa6-986f-7c79bada37c8",
   "metadata": {},
   "outputs": [],
   "source": [
    "#Answer 8-\n",
    "n=10\n",
    "while n>0:\n",
    "    print(n)\n",
    "    n=n-1"
   ]
  }
 ],
 "metadata": {
  "kernelspec": {
   "display_name": "Python 3 (ipykernel)",
   "language": "python",
   "name": "python3"
  },
  "language_info": {
   "codemirror_mode": {
    "name": "ipython",
    "version": 3
   },
   "file_extension": ".py",
   "mimetype": "text/x-python",
   "name": "python",
   "nbconvert_exporter": "python",
   "pygments_lexer": "ipython3",
   "version": "3.10.8"
  }
 },
 "nbformat": 4,
 "nbformat_minor": 5
}
