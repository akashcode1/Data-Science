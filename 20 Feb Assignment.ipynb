{
 "cells": [
  {
   "cell_type": "markdown",
   "id": "d9eacf33",
   "metadata": {},
   "source": [
    "Answer 1-"
   ]
  },
  {
   "cell_type": "markdown",
   "id": "68726cb1",
   "metadata": {},
   "source": [
    "In Flask, GET and POST are two HTTP methods that can be used to send data to a server.\n",
    "\n",
    "The GET method is used to request data from a specified resource. When you use the GET method, the data is sent in the URL as a query string. This method should only be used for retrieving data and not for sending sensitive information.\n",
    "\n",
    "The POST method is used to submit an entity to the specified resource, often causing a change in state or side effects on the server. When you use the POST method, the data is sent in the body of the HTTP request."
   ]
  },
  {
   "cell_type": "raw",
   "id": "73e20d55",
   "metadata": {},
   "source": [
    "Answer 2 -\n",
    "The request object in Flask is used to access incoming request data. This object contains the data that was submitted with the request, such as form data, query string arguments, and uploaded files.\n",
    "\n",
    "The request object also provides other useful information about the incoming request, such as headers and cookies."
   ]
  },
  {
   "cell_type": "markdown",
   "id": "a88ab797",
   "metadata": {},
   "source": [
    "Answer 3-\n",
    "The redirect() function in Flask is used to redirect the user to another endpoint or URL. This function is often used after a form has been submitted to redirect the user to a new page."
   ]
  },
  {
   "cell_type": "markdown",
   "id": "f4de7f70",
   "metadata": {},
   "source": [
    "Answer 4-\n",
    "\n",
    "In Flask, templates are used to generate dynamic HTML pages. Templates allow you to separate the presentation of your web pages from the logic that generates them.\n",
    "\n",
    "The render_template() function in Flask is used to render templates. This function takes the name of a template file and any variables that should be passed to the template.\n",
    "\n",
    "Templates in Flask are typically written in HTML with placeholders for dynamic content. These placeholders are replaced with actual values when the template is rendered."
   ]
  },
  {
   "cell_type": "markdown",
   "id": "6dbdb6e6",
   "metadata": {},
   "source": [
    "Answer 5-\n",
    "\n",
    "from flask import Flask\n",
    "\n",
    "app = Flask(__name__)\n",
    "\n",
    "@app.route(\"/\")\n",
    "def hello_world():\n",
    "    return \"<p>Hello, World!</p>\"\n",
    "\n",
    "if __name__ == \"__main__\":\n",
    "    app.run(debug=True)\n",
    "\n"
   ]
  },
  {
   "cell_type": "code",
   "execution_count": null,
   "id": "d4015a16",
   "metadata": {},
   "outputs": [],
   "source": []
  }
 ],
 "metadata": {
  "kernelspec": {
   "display_name": "Python 3 (ipykernel)",
   "language": "python",
   "name": "python3"
  },
  "language_info": {
   "codemirror_mode": {
    "name": "ipython",
    "version": 3
   },
   "file_extension": ".py",
   "mimetype": "text/x-python",
   "name": "python",
   "nbconvert_exporter": "python",
   "pygments_lexer": "ipython3",
   "version": "3.9.13"
  }
 },
 "nbformat": 4,
 "nbformat_minor": 5
}
