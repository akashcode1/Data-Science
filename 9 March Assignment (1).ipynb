{
 "cells": [
  {
   "cell_type": "markdown",
   "id": "6aae8827",
   "metadata": {},
   "source": [
    "# Answer 1-\n",
    "Probability Mass Function (PMF) and Probability Density Function (PDF) are used to describe the probability distribution of a random variable.\n",
    "\n",
    "A Probability Mass Function (PMF) is used to describe the probability distribution of a discrete random variable. It gives the probability of each possible value of the random variable. The PMF must satisfy two conditions: the probability of each possible value must be between 0 and 1, and the sum of all probabilities must be equal to 1.\n",
    "\n",
    "For example, consider a fair six-sided die. The PMF of this die would give the probability of rolling each possible value: 1/6 for each of the values 1, 2, 3, 4, 5, and 6.\n",
    "\n",
    "A Probability Density Function (PDF) is used to describe the probability distribution of a continuous random variable. It gives the probability density at each possible value of the random variable. Unlike PMF, the PDF does not give the probability of a specific value of the random variable, but rather the probability density at that value. The integral of the PDF over a range of values gives the probability of the random variable falling within that range.\n",
    "\n",
    "For example, consider the height of adult humans. The PDF of height would give the probability density at each possible height value. The PDF may be a bell curve, with a higher density at the mean height and lower density at taller or shorter heights."
   ]
  },
  {
   "cell_type": "markdown",
   "id": "93da89a0",
   "metadata": {},
   "source": [
    "# Answer 2-\n",
    "A Cumulative Density Function (CDF) is a function that describes the probability that a random variable takes on a value less than or equal to a given value. It is used to describe the probability distribution of both discrete and continuous random variables.\n",
    "\n",
    "For example, consider a random variable that takes on values from 1 to 6 with equal probability. The CDF for this random variable would be a step function that starts at 0 for x < 1, increases by 1/6 at each integer value from 1 to 6, and ends at 1 for x > 6. The CDF gives the probability of the random variable being less than or equal to any given value, such as the probability of rolling a value less than or equal to 3.\n",
    "\n",
    "The CDF is useful for many purposes, such as calculating percentiles or finding the probability of a range of values. The CDF can be differentiated to obtain the PDF of the random variable."
   ]
  },
  {
   "cell_type": "markdown",
   "id": "2bb4a1cd",
   "metadata": {},
   "source": [
    "# Answer 3-\n",
    "The normal distribution is a probability distribution that is often used as a model in many different fields. It is particularly useful for modeling random variables that are continuous and have a symmetrical, bell-shaped distribution. Some examples of situations where the normal distribution might be used as a model include:\n",
    "\n",
    "-Heights and weights of a population\n",
    "\n",
    "-Test scores on a standardized exam\n",
    "\n",
    "-Errors in measurements or experimental results\n",
    "\n",
    "-Financial market returns\n",
    "\n",
    "-Environmental factors such as temperature or rainfall\n",
    "\n",
    "The normal distribution is characterized by two parameters: the mean and the standard deviation. The mean determines the location of the peak of the distribution, while the standard deviation determines the spread of the distribution. Specifically, the standard deviation controls the width of the distribution: a larger standard deviation results in a wider distribution, while a smaller standard deviation results in a narrower distribution."
   ]
  },
  {
   "cell_type": "markdown",
   "id": "e80b6a4b",
   "metadata": {},
   "source": [
    "# Answer 4-\n",
    "The normal distribution is important because it is a fundamental probability distribution that arises naturally in many different situations. Its properties are well-studied and widely understood, making it a useful tool for modeling and analysis. In particular, many statistical methods rely on assumptions of normality, making the normal distribution a cornerstone of statistical inference.\n",
    "\n",
    "Some real-life examples of the normal distribution include:\n",
    "\n",
    "-Heights and weights of a population\n",
    "\n",
    "-IQ scores and test scores\n",
    "\n",
    "-Body temperature in healthy individuals\n",
    "\n",
    "-Blood pressure readings\n",
    "\n",
    "-Income levels in a population\n",
    "\n",
    "In each of these examples, the normal distribution arises because the variable of interest is the result of many independent factors that combine additively. According to the Central Limit Theorem, the sum of many independent random variables tends to follow a normal distribution. This explains why the normal distribution is so common in nature and arises so frequently in real-world applications."
   ]
  },
  {
   "cell_type": "markdown",
   "id": "ff78ba32",
   "metadata": {},
   "source": [
    "# Answer 5-\n",
    "Bernoulli distribution is a discrete probability distribution that models the outcome of a single binary event. The distribution is named after Swiss mathematician Jacob Bernoulli. It has only two possible outcomes, which are usually labeled as success (with probability p) and failure (with probability 1-p). The probability mass function (PMF) of the Bernoulli distribution is given by:\n",
    "\n",
    "P(X=x) = p^x * (1-p)^(1-x) for x=0 or x=1\n",
    "\n",
    "where X is the random variable representing the outcome of the event. An example of a Bernoulli distribution could be the probability of flipping a coin and getting heads, where heads is considered a success and tails is considered a failure.\n",
    "\n",
    "The main difference between the Bernoulli distribution and the binomial distribution is that the Bernoulli distribution models a single trial of a binary event, while the binomial distribution models the number of successes in a fixed number of independent Bernoulli trials. In other words, the binomial distribution is the sum of multiple independent Bernoulli trials. The binomial distribution has two parameters, n and p, where n is the number of trials and p is the probability of success in each trial."
   ]
  },
  {
   "cell_type": "markdown",
   "id": "3e166c90",
   "metadata": {},
   "source": [
    "# Answer 6-\n",
    ": To calculate the probability that a randomly selected observation from a normal distribution with mean 50 and standard deviation 10 is greater than 60, we can use the standard normal distribution formula:\n",
    "\n",
    "z = (x - μ) / σ\n",
    "\n",
    "where z is the standardized score, x is the value we are interested in (in this case, x = 60), μ is the mean (μ = 50), and σ is the standard deviation (σ = 10). Substituting these values into the formula, we get:\n",
    "\n",
    "z = (60 - 50) / 10 = 1\n",
    "\n",
    "We can then look up the probability associated with a z-score of 1 in a standard normal distribution table or use a calculator that can calculate normal probabilities. The probability that a randomly selected observation from this normal distribution is greater than 60 is approximately 0.1587 or 15.87%.\n"
   ]
  },
  {
   "cell_type": "markdown",
   "id": "76b96b3e",
   "metadata": {},
   "source": [
    "# Answer 7-\n",
    "Uniform distribution is a continuous probability distribution that models the likelihood of an event occurring within a certain range. It assumes that all values within the range are equally likely to occur. The probability density function (PDF) of the uniform distribution is given by:\n",
    "\n",
    "f(x) = 1 / (b - a) for a ≤ x ≤ b\n",
    "\n",
    "where a and b are the lower and upper limits of the range, respectively. An example of a uniform distribution could be the probability of randomly selecting a number between 1 and 10."
   ]
  },
  {
   "cell_type": "markdown",
   "id": "0a4ea1aa",
   "metadata": {},
   "source": [
    "# Answer 8-\n",
    "The z-score, also known as the standard score, is a standardized value that represents the distance between an observation and the mean of a distribution in terms of the number of standard deviations. It is calculated as:\n",
    "\n",
    "z = (x - μ) / σ\n",
    "\n",
    "where x is the observation, μ is the mean of the distribution, and σ is the standard deviation of the distribution. The z-score allows us to compare observations from different normal distributions on a common scale, and it is useful in hypothesis testing and confidence interval calculations."
   ]
  },
  {
   "cell_type": "markdown",
   "id": "eb1cc95e",
   "metadata": {},
   "source": [
    "# Answer 9-\n",
    "The central limit theorem (CLT) is a fundamental concept in statistics that states that as the sample size increases, the sampling distribution of the sample means approaches a normal distribution, regardless of the distribution of the population from which the samples are drawn. This theorem applies to any population distribution, as long as the sample size is sufficiently large. The significance of the central limit theorem is that it provides a powerful tool for statistical inference, allowing us to make inferences about population parameters based on sample statistics.\n",
    "\n"
   ]
  },
  {
   "cell_type": "markdown",
   "id": "555af2f4",
   "metadata": {},
   "source": [
    "# Answer 10-\n",
    "The central limit theorem has three main assumptions:\n",
    "\n",
    "-The sample size is large enough: the sample size should be greater than or equal to 30 in most cases, although this can vary depending on the shape of the population distribution.\n",
    "\n",
    "-The observations are independent: each observation in the sample must be independent of the others.\n",
    "\n",
    "-The population has a finite variance: the population from which the samples are drawn must have a finite variance, or the sample variance should be a good estimate of the population variance."
   ]
  },
  {
   "cell_type": "code",
   "execution_count": null,
   "id": "a406ebef",
   "metadata": {},
   "outputs": [],
   "source": []
  }
 ],
 "metadata": {
  "kernelspec": {
   "display_name": "Python 3 (ipykernel)",
   "language": "python",
   "name": "python3"
  },
  "language_info": {
   "codemirror_mode": {
    "name": "ipython",
    "version": 3
   },
   "file_extension": ".py",
   "mimetype": "text/x-python",
   "name": "python",
   "nbconvert_exporter": "python",
   "pygments_lexer": "ipython3",
   "version": "3.9.13"
  }
 },
 "nbformat": 4,
 "nbformat_minor": 5
}
