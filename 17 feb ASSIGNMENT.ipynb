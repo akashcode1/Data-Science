{
 "cells": [
  {
   "cell_type": "code",
   "execution_count": null,
   "id": "6578913d",
   "metadata": {},
   "outputs": [],
   "source": [
    "#ANSWER 1-\n",
    "\"\"\"\n",
    "MongoDB is a popular open-source document-oriented NoSQL database that uses a flexible JSON-like document format for storing and querying data. It provides a flexible and scalable approach to handling unstructured or semi-structured data, making it particularly useful for applications that require fast and flexible access to large amounts of data.\n",
    "\n",
    "Non-relational databases, also known as NoSQL databases, are designed to handle unstructured data and do not follow the traditional tabular, relational structure of SQL databases. They allow for more flexible data models and are particularly useful for handling big data, real-time data, and data that is constantly changing. NoSQL databases also provide high availability and scalability, making them ideal for web applications and other large-scale applications.\n",
    "\n",
    "MongoDB is preferred over SQL databases in scenarios where data needs to be processed quickly and efficiently, where the data is unstructured, and where flexibility is more important than data consistency. It is also ideal for applications that require the ability to scale horizontally, as MongoDB can handle large volumes of data across multiple servers. Additionally, MongoDB is popular for web applications, as it can handle large volumes of data and is easy to use with popular web development frameworks.\n",
    "\"\"\""
   ]
  },
  {
   "cell_type": "code",
   "execution_count": null,
   "id": "b3c3518d",
   "metadata": {},
   "outputs": [],
   "source": [
    "#Answer 2-\n",
    "\n",
    "\"\"\"\n",
    "MongoDB is a popular NoSQL database that offers a number of features that make it a popular choice for developers and organizations. Some of the key features of MongoDB include:\n",
    "\n",
    "Document-oriented data model: MongoDB stores data in flexible JSON-like documents, making it easy to store and manage unstructured or semi-structured data.\n",
    "\n",
    "High scalability and performance: MongoDB is designed to scale horizontally across multiple servers, and it can handle large amounts of data with high performance.\n",
    "\n",
    "Indexing and querying: MongoDB provides a powerful indexing and querying engine that allows for fast and efficient searching of large datasets.\n",
    "\n",
    "Replication and high availability: MongoDB offers automatic replication and failover capabilities, ensuring that data is always available and accessible.\n",
    "\n",
    "Automatic sharding: MongoDB can automatically partition data across multiple servers, making it easy to scale horizontally as data volumes grow.\n",
    "\n",
    "Flexible data model: MongoDB offers a flexible data model that can be easily modified as application requirements change.\n",
    "\n",
    "Rich query language: MongoDB's query language supports a wide range of operations, including complex joins, aggregations, and text search.\n",
    "\n",
    "Geospatial queries: MongoDB offers built-in support for geospatial queries, making it easy to work with location data.\n",
    "\n",
    "Easy integration with popular programming languages and frameworks: MongoDB offers official drivers for a wide range of programming languages and frameworks, making it easy to integrate with existing applications and systems.\n",
    "\n",
    "Open-source and community-driven: MongoDB is an open-source database, with a large and active community of developers and users who contribute to its ongoing development and improvement.\n",
    "\n",
    "\n",
    "\n",
    "\n",
    "\"\"\""
   ]
  },
  {
   "cell_type": "code",
   "execution_count": null,
   "id": "08176d16",
   "metadata": {},
   "outputs": [],
   "source": [
    "#Answer3-\n",
    "from pymongo import MongoClient\n",
    "\n",
    "# Connect to local MongoDB instance\n",
    "client = MongoClient()\n",
    "\n",
    "# Create a database and a collection\n",
    "db = client[\"mydatabase\"]\n",
    "col = db[\"customers\"]\n"
   ]
  },
  {
   "cell_type": "code",
   "execution_count": null,
   "id": "5a1e370b",
   "metadata": {},
   "outputs": [],
   "source": [
    "#Answer 4-\n",
    "-\n",
    "# Insert one record\n",
    "record = {\"name\": \"Alice\", \"age\": 25, \"city\": \"New York\"}\n",
    "col.insert_one(record)\n",
    "\n",
    "# Insert many records\n",
    "records = [    {\"name\": \"Bob\", \"age\": 30, \"city\": \"London\"},    {\"name\": \"Charlie\", \"age\": 35, \"city\": \"Paris\"},    {\"name\": \"David\", \"age\": 40, \"city\": \"Tokyo\"}]\n",
    "col.insert_many(records)\n",
    "\n",
    "# Use find_one() to print the first record\n",
    "print(col.find_one())\n",
    "\n",
    "# Use find() to print all records\n",
    "for record in col.find():\n",
    "    print(record)\n"
   ]
  },
  {
   "cell_type": "code",
   "execution_count": null,
   "id": "9f0c054f",
   "metadata": {},
   "outputs": [],
   "source": [
    "#Answer 5-\n",
    "\"\"\"\n",
    "The find() method is used to query the MongoDB database and retrieve documents that match a certain criteria. The method takes a query parameter, which is a dictionary that specifies the conditions that the documents must meet in order to be returned. The query parameter can include criteria such as field values, comparison operators, and logical operators.\n",
    "\"\"\""
   ]
  },
  {
   "cell_type": "code",
   "execution_count": null,
   "id": "c68c1c3c",
   "metadata": {},
   "outputs": [],
   "source": [
    "#Answer 6-\n",
    "\"\"\"\n",
    ". The sort() method is used to sort the results of a query in ascending or descending order based on one or more fields. The method takes one or more field names as parameters and a direction specifier (either ASCENDING or DESCENDING). By default, the method sorts in ascending order.\n",
    "\"\"\""
   ]
  },
  {
   "cell_type": "code",
   "execution_count": null,
   "id": "759f3ea9",
   "metadata": {},
   "outputs": [],
   "source": [
    "#Answer 7-\n",
    "\"\"\"\n",
    "The delete_one() and delete_many() methods are used to remove one or many documents from a collection that match a certain criteria. The drop() method is used to drop an entire collection from the database.\n",
    "\n",
    "delete_one() is used when we want to delete a single document from the collection. It takes a query parameter that specifies the criteria that the document must meet in order to be deleted.\n",
    "\n",
    "delete_many() is used when we want to delete multiple documents from the collection. It also takes a query parameter that specifies the criteria that the documents must meet in order to be deleted.\n",
    "\n",
    "drop() is used when we want to remove an entire collection from the database. It does not take any parameters.\n",
    "\"\"\""
   ]
  }
 ],
 "metadata": {
  "kernelspec": {
   "display_name": "Python 3 (ipykernel)",
   "language": "python",
   "name": "python3"
  },
  "language_info": {
   "codemirror_mode": {
    "name": "ipython",
    "version": 3
   },
   "file_extension": ".py",
   "mimetype": "text/x-python",
   "name": "python",
   "nbconvert_exporter": "python",
   "pygments_lexer": "ipython3",
   "version": "3.9.13"
  }
 },
 "nbformat": 4,
 "nbformat_minor": 5
}
