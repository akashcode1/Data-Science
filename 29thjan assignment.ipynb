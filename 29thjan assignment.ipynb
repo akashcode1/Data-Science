{
 "cells": [
  {
   "cell_type": "code",
   "execution_count": null,
   "id": "fd312b14-4527-4c20-ba58-5cf1faf1faca",
   "metadata": {},
   "outputs": [],
   "source": [
    "\"\"\"Q- Who Developed Python Programming Language?\n",
    "Ans- Guido van Rossum \"\"\""
   ]
  },
  {
   "cell_type": "code",
   "execution_count": null,
   "id": "41b778f2-bcca-4b18-88cf-dbbfb6131e1b",
   "metadata": {},
   "outputs": [],
   "source": [
    "\n",
    "\"\"\"Q- which type of programming does python support?\n",
    "Ans- Pythons support both Object orinted Programming And structured programming .\"\"'\n"
   ]
  },
  {
   "cell_type": "code",
   "execution_count": null,
   "id": "a30a376c-4cae-483c-9dda-bd129f25e8e5",
   "metadata": {},
   "outputs": [],
   "source": [
    "\"\"\"Q- Is python Case Sensitive when dealing with identifiers?\n",
    "Ans-Yes \"\"\"\n"
   ]
  },
  {
   "cell_type": "code",
   "execution_count": null,
   "id": "5efc7097-81b7-460a-902c-94d6c999477f",
   "metadata": {},
   "outputs": [],
   "source": [
    "\"\"\"Q- What is the correct extension of the python file?\n",
    "Ans- .py  \"\"\"\n"
   ]
  },
  {
   "cell_type": "code",
   "execution_count": null,
   "id": "8e7525c7-832b-4488-af09-2d8a08dc2ac1",
   "metadata": {},
   "outputs": [],
   "source": [
    "\"\"\"Q- Is python code compiled and interpreted?\n",
    "Ans-  Python is a interpreted language first source code\n",
    "      convert into bytecode then excuted by python virtual machine \"\"\"  \n"
   ]
  },
  {
   "cell_type": "code",
   "execution_count": null,
   "id": "f74c0691-d581-47dc-9fc8-07f010a360d0",
   "metadata": {},
   "outputs": [],
   "source": [
    "\"\"\"Q- Name few blocks of code used to define in python language?\n",
    "Ans- \n",
    "n=int(input())\n",
    "for i in n:\n",
    "    print(i)\"\"\"\n",
    " "
   ]
  },
  {
   "cell_type": "code",
   "execution_count": null,
   "id": "e06fb4d6-d280-4fb3-9e19-d1402fc112b9",
   "metadata": {},
   "outputs": [],
   "source": [
    "\"\"\"Q - State a character used to give silngle line comments in python\n",
    "Ans - \"Hash Character\" (#) \"\"\"\n"
   ]
  },
  {
   "cell_type": "code",
   "execution_count": null,
   "id": "575cf51c-30f6-49ce-9c7c-118266abe229",
   "metadata": {},
   "outputs": [],
   "source": [
    "\"\"\" Q- Mention functions which can help is to find the version of python that \n",
    " we are currently working on?\n",
    "Ans- sys.version \"\"\"\n"
   ]
  },
  {
   "cell_type": "code",
   "execution_count": null,
   "id": "6f86da88-53da-4bbd-88db-1ec94489b6ac",
   "metadata": {},
   "outputs": [],
   "source": [
    "\n",
    "\"\"\"Q- Python supports the creation of anonymous function at runtime\n",
    "using construct called?\n",
    "Ans- The construct in Python for creating anonymous functions at runtime is called \"lambda.\" \"\"\"\n"
   ]
  },
  {
   "cell_type": "code",
   "execution_count": null,
   "id": "226883a4-0446-4ab3-a6c7-d164daa820f4",
   "metadata": {},
   "outputs": [],
   "source": [
    "\"\"\"Q-What does pip stands for python?\n",
    "Ans- \"pip\" stands for \"Pip Installs Packages.\" It is a package manager for Python that makes it easy to install, upgrade, and manage third-party libraries and packages required for your Python projects.\"\"\"\n"
   ]
  },
  {
   "cell_type": "code",
   "execution_count": null,
   "id": "bef2e1b7-4854-44fe-9d0e-2383f6e2f31d",
   "metadata": {},
   "outputs": [],
   "source": [
    "\"\"\"Q- Mention a Few Built-in function in python?\n",
    "Ans- print()\n",
    "len()\n",
    "str()\n",
    "int()\n",
    "float()\n",
    "bool()\n",
    "type()\n",
    "range()\n",
    "\"\"\""
   ]
  },
  {
   "cell_type": "code",
   "execution_count": null,
   "id": "772f91c9-e909-49da-a746-9c7e7b5023bf",
   "metadata": {},
   "outputs": [],
   "source": [
    "\"\"\"Q- What is the maximum possible length of an identifier in python?\n",
    "Ans- \"79 characters\" \"\"\"\n"
   ]
  },
  {
   "cell_type": "code",
   "execution_count": null,
   "id": "eafcbab6-631e-4784-8f8a-72690c7bae17",
   "metadata": {},
   "outputs": [],
   "source": [
    "\"\"\"Q- What are the benifits of using Pythons?\n",
    "Ans- Open source and large active community base \n",
    "Versatile, Easy to read, learn and write\n",
    "User-friendly data structures \n",
    "High-level language \n",
    "Dynamically typed language(No need to mention data type based on the value assigned, it takes data type) \n",
    "Object-Oriented and Procedural  Programming language\n",
    "Portable and Interactive\"\"\"\n"
   ]
  },
  {
   "cell_type": "code",
   "execution_count": null,
   "id": "88e8cad3-7d38-4379-bf6b-84fc1785fcc5",
   "metadata": {},
   "outputs": [],
   "source": [
    "\"\"\"Q- How is memory managed in python?\n",
    "Ans- Memory management in Python involves a private heap containing all Python objects and data structures.\n",
    "The management of this private heap is ensured internally by the Python memory manager\"\"\"\n"
   ]
  },
  {
   "cell_type": "code",
   "execution_count": null,
   "id": "5c8447e1-8554-4f23-9f08-20871dfd3457",
   "metadata": {},
   "outputs": [],
   "source": [
    "\"\"\"Q- How to install python on windows and set path variables?\n",
    "Ans- 1. Right-clicking This PC and going to Properties.\n",
    "\n",
    "             2. Clicking on the Advanced system settings in the menu on the left.\n",
    "\n",
    "             3. Clicking on the Environment Variables button o​n the bottom right.\n",
    "\n",
    "             4.In the System variables section, selecting the Path variable and clicking on Edit.\n",
    "The next screen will show all the directories that are currently a part of the PATH variable.\n",
    "\n",
    "Clicking on New and entering Python’s install directory.\"\"\"\n"
   ]
  },
  {
   "cell_type": "code",
   "execution_count": null,
   "id": "3b8b0e7e-0f34-4590-b965-f410f8848bd7",
   "metadata": {},
   "outputs": [],
   "source": [
    "\"\"\"Q-Is identation required in python?\n",
    "Ans- \"Yes\" \"\"\"\n"
   ]
  }
 ],
 "metadata": {
  "kernelspec": {
   "display_name": "Python 3 (ipykernel)",
   "language": "python",
   "name": "python3"
  },
  "language_info": {
   "codemirror_mode": {
    "name": "ipython",
    "version": 3
   },
   "file_extension": ".py",
   "mimetype": "text/x-python",
   "name": "python",
   "nbconvert_exporter": "python",
   "pygments_lexer": "ipython3",
   "version": "3.10.8"
  }
 },
 "nbformat": 4,
 "nbformat_minor": 5
}
