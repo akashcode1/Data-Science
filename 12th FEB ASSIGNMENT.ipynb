{
 "cells": [
  {
   "cell_type": "code",
   "execution_count": null,
   "id": "a8fe29db",
   "metadata": {},
   "outputs": [],
   "source": [
    "#ANSWER 1-\n",
    "\"\"\"\n",
    "In Python, an exception is an error that occurs during the execution of a program. \n",
    "When an exception is encountered, the program stops executing and an error message is displayed.\n",
    "Exceptions are a way for the program to handle errors in a structured and predictable manner, allowing \n",
    "for graceful recovery or termination of the program.\n",
    "\n",
    "The difference between exceptions and syntax errors is that syntax errors occur when the Python interpreter encounters invalid code,\n",
    "such as a missing parenthesis or an incorrect indentation level. Exceptions, on the other hand, occur during the execution of valid code, \n",
    "when an error condition is encountered that cannot be handled by the program.\n",
    "\n",
    "Another difference between exceptions and syntax errors is that syntax errors are typically detected by the Python interpreter before the program starts running,\n",
    "while exceptions are detected during the execution of the program. This means that you can use try-except blocks to handle exceptions and recover from errors, \n",
    "but you can't use them to catch syntax errors.\n",
    "\"\"\""
   ]
  },
  {
   "cell_type": "code",
   "execution_count": null,
   "id": "74494bc8",
   "metadata": {},
   "outputs": [],
   "source": [
    "#ANSWER 2-\n",
    "\"\"\"\n",
    "When an exception is not handled, the program will terminate and an error message will be displayed to the user. \n",
    "This error message will typically include information about the type of exception that occurred, as well as the line\n",
    "number and file name where the exception occurred.\n",
    "\"\"\"\n",
    "\n"
   ]
  },
  {
   "cell_type": "code",
   "execution_count": 1,
   "id": "bc71cd92",
   "metadata": {},
   "outputs": [],
   "source": [
    "#When System detect Error\n",
    "def divide():\n",
    "    return 1/0\n"
   ]
  },
  {
   "cell_type": "code",
   "execution_count": 2,
   "id": "dbc4aadd",
   "metadata": {},
   "outputs": [
    {
     "ename": "ZeroDivisionError",
     "evalue": "division by zero",
     "output_type": "error",
     "traceback": [
      "\u001b[1;31m---------------------------------------------------------------------------\u001b[0m",
      "\u001b[1;31mZeroDivisionError\u001b[0m                         Traceback (most recent call last)",
      "\u001b[1;32m~\\AppData\\Local\\Temp\\ipykernel_18540\\1771953078.py\u001b[0m in \u001b[0;36m<module>\u001b[1;34m\u001b[0m\n\u001b[1;32m----> 1\u001b[1;33m \u001b[0mdivide\u001b[0m\u001b[1;33m(\u001b[0m\u001b[1;33m)\u001b[0m\u001b[1;33m\u001b[0m\u001b[1;33m\u001b[0m\u001b[0m\n\u001b[0m",
      "\u001b[1;32m~\\AppData\\Local\\Temp\\ipykernel_18540\\3171388049.py\u001b[0m in \u001b[0;36mdivide\u001b[1;34m()\u001b[0m\n\u001b[0;32m      1\u001b[0m \u001b[1;32mdef\u001b[0m \u001b[0mdivide\u001b[0m\u001b[1;33m(\u001b[0m\u001b[1;33m)\u001b[0m\u001b[1;33m:\u001b[0m\u001b[1;33m\u001b[0m\u001b[1;33m\u001b[0m\u001b[0m\n\u001b[1;32m----> 2\u001b[1;33m     \u001b[1;32mreturn\u001b[0m \u001b[1;36m1\u001b[0m\u001b[1;33m/\u001b[0m\u001b[1;36m0\u001b[0m\u001b[1;33m\u001b[0m\u001b[1;33m\u001b[0m\u001b[0m\n\u001b[0m",
      "\u001b[1;31mZeroDivisionError\u001b[0m: division by zero"
     ]
    }
   ],
   "source": [
    "divide()"
   ]
  },
  {
   "cell_type": "code",
   "execution_count": 6,
   "id": "2516c073",
   "metadata": {},
   "outputs": [],
   "source": [
    "#When We Write Exceptions for error\n",
    "def divide():\n",
    "    try:\n",
    "        return 1/0\n",
    "    except ZeroDivisionError:\n",
    "        return \" ZeroDivisionError DETECTED BY ECEPTION \"\n",
    "\n"
   ]
  },
  {
   "cell_type": "code",
   "execution_count": 7,
   "id": "6fa33bee",
   "metadata": {},
   "outputs": [
    {
     "data": {
      "text/plain": [
       "' ZeroDivisionError DETECTED BY ECEPTION '"
      ]
     },
     "execution_count": 7,
     "metadata": {},
     "output_type": "execute_result"
    }
   ],
   "source": [
    "divide()"
   ]
  },
  {
   "cell_type": "code",
   "execution_count": 8,
   "id": "b2b6aada",
   "metadata": {},
   "outputs": [
    {
     "name": "stdout",
     "output_type": "stream",
     "text": [
      "Enter a number: 0\n",
      "Enter another number: 0\n",
      "You cannot divide by zero!\n"
     ]
    }
   ],
   "source": [
    "#ANSWER 3-\n",
    "\"\"\"\n",
    "Python uses try-except statements to handle exceptions. When a piece of code encounters an error during its execution, \n",
    "Python raises an exception. If the exception is not handled, the program will terminate and display an error message to the user.\n",
    "\n",
    "The try-except statement allows you to catch and handle exceptions gracefully, preventing your program from crashing. \n",
    "You can use try-except statements to identify the exception that was raised and take appropriate action.\n",
    "\"\"\"\n",
    "\n",
    "try:\n",
    "    x = int(input(\"Enter a number: \"))\n",
    "    y = int(input(\"Enter another number: \"))\n",
    "    print(x/y)\n",
    "except ZeroDivisionError:\n",
    "    print(\"You cannot divide by zero!\")\n",
    "except ValueError:\n",
    "    print(\"Please enter a valid number.\")\n",
    "\n",
    "    \"\"\"\n",
    "    In this example, the user is asked to enter two numbers. The code attempts to divide the first number by the second number.\n",
    "    If the user enters a 0 as the second number, a ZeroDivisionError is raised, and the program will print \"You cannot divide by zero!\"\n",
    "    to the console. If the user enters a non-numeric value, a ValueError is raised, and the program will print \"Please enter a valid number.\"\n",
    "    to the console.\n",
    "    \"\"\""
   ]
  },
  {
   "cell_type": "code",
   "execution_count": 23,
   "id": "5c66f9b9",
   "metadata": {},
   "outputs": [
    {
     "name": "stdout",
     "output_type": "stream",
     "text": [
      "File not found.\n",
      "Closing file.\n"
     ]
    },
    {
     "ename": "Exception",
     "evalue": "An error occurred while closing the file.",
     "output_type": "error",
     "traceback": [
      "\u001b[1;31m---------------------------------------------------------------------------\u001b[0m",
      "\u001b[1;31mException\u001b[0m                                 Traceback (most recent call last)",
      "\u001b[1;32m~\\AppData\\Local\\Temp\\ipykernel_18540\\624421874.py\u001b[0m in \u001b[0;36m<module>\u001b[1;34m\u001b[0m\n\u001b[0;32m     28\u001b[0m         \u001b[1;32mdel\u001b[0m \u001b[0mopen\u001b[0m\u001b[1;33m\u001b[0m\u001b[1;33m\u001b[0m\u001b[0m\n\u001b[0;32m     29\u001b[0m \u001b[1;33m\u001b[0m\u001b[0m\n\u001b[1;32m---> 30\u001b[1;33m     \u001b[1;32mraise\u001b[0m \u001b[0mException\u001b[0m\u001b[1;33m(\u001b[0m\u001b[1;34m\"An error occurred while closing the file.\"\u001b[0m\u001b[1;33m)\u001b[0m\u001b[1;33m\u001b[0m\u001b[1;33m\u001b[0m\u001b[0m\n\u001b[0m\u001b[0;32m     31\u001b[0m \u001b[1;33m\u001b[0m\u001b[0m\n\u001b[0;32m     32\u001b[0m \u001b[1;33m\u001b[0m\u001b[0m\n",
      "\u001b[1;31mException\u001b[0m: An error occurred while closing the file."
     ]
    }
   ],
   "source": [
    "#ANSWER 4-\n",
    "try:\n",
    "    file = open(\"filename.txt\", \"r\")\n",
    "    contents = file.read()\n",
    "    print(contents)\n",
    "    file.close()\n",
    "    \n",
    "except FileNotFoundError:\n",
    "    print(\"File not found.\")\n",
    "    \n",
    "else:\n",
    "    print(\"File read successfully.\")\n",
    "    \n",
    "finally:\n",
    "    print(\"Closing file.\")\n",
    "    try:\n",
    "        file.close()\n",
    "    except NameError:\n",
    "        pass\n",
    "    \n",
    "    if \"contents\" in locals():\n",
    "        del contents\n",
    "    \n",
    "    if \"file\" in locals():\n",
    "        del file\n",
    "        \n",
    "    if \"open\" in locals():\n",
    "        del open\n",
    "        \n",
    "    raise Exception(\"An error occurred while closing the file.\")\n",
    " \n",
    "\n",
    "\n",
    "\"\"\"\n",
    "In this example, the try block contains code that might raise an exception, such as if the specified file is not found.\n",
    "If an exception is raised, the program will jump to the except block and print an error message.\n",
    "\n",
    "If no exception is raised, the program will execute the code in the else block, which prints a success message. Then,\n",
    "the program will execute the code in the finally block, which is guaranteed to run regardless of whether an exception \n",
    "was raised or not.\n",
    "\n",
    "In the finally block, the program first attempts to close the file using the file.close() method. However, this method might \n",
    "also raise an exception, so the program wraps it in another try block to handle this possibility.\n",
    "\n",
    "Next, the program checks whether the contents, file, and open variables exist in the current namespace, and deletes them if \n",
    "they do. This is not strictly necessary, but it's good practice to clean up after yourself when working with files.\n",
    "\n",
    "Finally, the program raises an exception using the raise statement. This is not strictly necessary either, but it can be\n",
    "helpful for debugging purposes to know exactly where an error occurred.\n",
    "\"\"\""
   ]
  },
  {
   "cell_type": "code",
   "execution_count": 29,
   "id": "e9fc4db5",
   "metadata": {},
   "outputs": [
    {
     "name": "stdout",
     "output_type": "stream",
     "text": [
      "Value must be non-negative.\n"
     ]
    }
   ],
   "source": [
    "#ANSWER 5-\n",
    "class MyCustomException(Exception):\n",
    "    def __init__(self, message):\n",
    "        super().__init__(message)\n",
    "\n",
    "def my_function(value):\n",
    "    if value < 0:\n",
    "        raise MyCustomException(\"Value must be non-negative.\")\n",
    "    else:\n",
    "        print(\"Value is:\", value)\n",
    "\n",
    "try:\n",
    "    my_function(-5)\n",
    "except MyCustomException as e:\n",
    "    print(e)\n",
    "\n",
    "\"\"\"\n",
    "In this Code, I define a custom exception class called MyCustomException that inherits from the built-in Exception class. \n",
    "The __init__ method is overridden to allow us to pass in a custom error message.\n",
    "\n",
    "Next, we define a function called my_function that takes a single argument called value. If value is less than zero,\n",
    "we raise a MyCustomException with a custom error message. Otherwise, we print the value to the console.\n",
    "\n",
    "Finally, we wrap a call to my_function inside a try block and catch any MyCustomException instances that are raised using \n",
    "the except clause. If an exception is caught, we print the error message to the console.\n",
    "\"\"\""
   ]
  },
  {
   "cell_type": "code",
   "execution_count": 51,
   "id": "abd690d0",
   "metadata": {},
   "outputs": [
    {
     "name": "stdout",
     "output_type": "stream",
     "text": [
      "Value must be non-negative.\n"
     ]
    }
   ],
   "source": [
    "#ANSWER 6-\n",
    "class MyCustomException(Exception):\n",
    "    def __init__(self, message):\n",
    "        super().__init__(message)\n",
    "\n",
    "def my_function(value):\n",
    "    if value < 0:\n",
    "        raise MyCustomException(\"Value must be non-negative.\")\n",
    "    else:\n",
    "        print(\"Value is:\", value)\n",
    "\n",
    "try:\n",
    "    my_function(-5)\n",
    "except MyCustomException as e:\n",
    "    print(e)"
   ]
  }
 ],
 "metadata": {
  "kernelspec": {
   "display_name": "Python 3 (ipykernel)",
   "language": "python",
   "name": "python3"
  },
  "language_info": {
   "codemirror_mode": {
    "name": "ipython",
    "version": 3
   },
   "file_extension": ".py",
   "mimetype": "text/x-python",
   "name": "python",
   "nbconvert_exporter": "python",
   "pygments_lexer": "ipython3",
   "version": "3.9.13"
  }
 },
 "nbformat": 4,
 "nbformat_minor": 5
}
