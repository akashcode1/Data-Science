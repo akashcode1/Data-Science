{
 "cells": [
  {
   "cell_type": "markdown",
   "id": "7ba2dae6",
   "metadata": {},
   "source": [
    "Answer 1-\n",
    "\n",
    "\n",
    "# read_csv(): This function is used to read data from a CSV file and create a pandas DataFrame object.\n",
    "\n",
    "import pandas as pd\n",
    "\n",
    "df = pd.read_csv('data.csv')\n",
    "\n",
    "# head(): This function is used to view the first few rows of a DataFrame.\n",
    "\n",
    "import pandas as pd\n",
    "\n",
    "df = pd.DataFrame({'Name': ['Alice', 'Bob', 'Charlie'], 'Age': [25, 30, 35]})\n",
    "\n",
    "print(df.head())\n",
    "\n",
    "# groupby(): This function is used to group data in a DataFrame based on one or more columns.\n",
    "\n",
    "import pandas as pd\n",
    "\n",
    "df = pd.DataFrame({'Name': ['Alice', 'Bob', 'Charlie', 'Alice'], 'Age': [25, 30, 35, 28], 'Salary': [50000, 60000, 70000, 55000]})\n",
    "\n",
    "grouped_df = df.groupby('Name')['Salary'].mean()\n",
    "\n",
    "print(grouped_df)\n",
    "\n",
    "# pivot_table(): This function is used to create a pivot table from a DataFrame.\n",
    "\n",
    "import pandas as pd\n",
    "\n",
    "df = pd.DataFrame({'Name': ['Alice', 'Bob', 'Charlie', 'Alice'], 'Age': [25, 30, 35, 28], 'Salary': [50000, 60000, 70000, 55000]})\n",
    "\n",
    "pivot_table = pd.pivot_table(df, values='Salary', index=['Name'], columns=['Age'], aggfunc='mean')\n",
    "\n",
    "print(pivot_table)\n",
    "\n",
    "\n",
    "# plot(): This function is used to create a visualization of the data in a DataFrame.\n",
    " \n",
    "import pandas as pd\n",
    "import matplotlib.pyplot as plt\n",
    "\n",
    "df = pd.DataFrame({'Year': [2018, 2019, 2020], 'Sales': [100000, 120000, 150000]})\n",
    "\n",
    "df.plot(x='Year', y='Sales', kind='line')\n",
    "\n",
    "plt.show()"
   ]
  },
  {
   "cell_type": "code",
   "execution_count": 1,
   "id": "ec24a1b6",
   "metadata": {},
   "outputs": [],
   "source": [
    "#Answer 2-\n",
    "\n",
    "import pandas as pd\n",
    "\n",
    "def reindex_dataframe(df):\n",
    "    # Create a new index that starts from 1 and increments by 2 for each row\n",
    "    new_index = pd.RangeIndex(start=1, stop=2*len(df), step=2)\n",
    "    \n",
    "    # Re-index the DataFrame with the new index\n",
    "    df = df.reindex(new_index)\n",
    "    \n",
    "    return df\n"
   ]
  },
  {
   "cell_type": "code",
   "execution_count": 3,
   "id": "03163fa1",
   "metadata": {},
   "outputs": [
    {
     "name": "stdout",
     "output_type": "stream",
     "text": [
      "     A    B    C\n",
      "1  2.0  5.0  8.0\n",
      "3  NaN  NaN  NaN\n",
      "5  NaN  NaN  NaN\n"
     ]
    }
   ],
   "source": [
    "# Create a sample DataFrame object\n",
    "df = pd.DataFrame({'A': [1, 2, 3], 'B': [4, 5, 6], 'C': [7, 8, 9]})\n",
    "\n",
    "# Re-index the DataFrame with a new index that starts from 1 and increments by 2 for each row\n",
    "new_df = reindex_dataframe(df)\n",
    "\n",
    "# Print the new DataFrame object\n",
    "print(new_df)\n"
   ]
  },
  {
   "cell_type": "code",
   "execution_count": 4,
   "id": "9a6093f0",
   "metadata": {},
   "outputs": [],
   "source": [
    "#Answer 3-\n",
    "import pandas as pd\n",
    "\n",
    "def calculate_sum_of_first_three_values(df):\n",
    "    # Get the first three values from the 'Values' column\n",
    "    first_three_values = df['Values'][:3]\n",
    "    \n",
    "    # Calculate the sum of the first three values\n",
    "    sum_of_first_three_values = first_three_values.sum()\n",
    "    \n",
    "    # Print the sum to the console\n",
    "    print(\"Sum of first three values in 'Values' column:\", sum_of_first_three_values)\n"
   ]
  },
  {
   "cell_type": "code",
   "execution_count": 5,
   "id": "ef7b89ff",
   "metadata": {},
   "outputs": [
    {
     "name": "stdout",
     "output_type": "stream",
     "text": [
      "Sum of first three values in 'Values' column: 60\n"
     ]
    }
   ],
   "source": [
    "# Create a sample DataFrame object\n",
    "df = pd.DataFrame({'Values': [10, 20, 30, 40, 50]})\n",
    "\n",
    "# Calculate the sum of the first three values in the 'Values' column\n",
    "calculate_sum_of_first_three_values(df)\n"
   ]
  },
  {
   "cell_type": "code",
   "execution_count": 6,
   "id": "96f7ca15",
   "metadata": {},
   "outputs": [],
   "source": [
    "#Answer 4-\n",
    "import pandas as pd\n",
    "\n",
    "def count_words_in_text_column(df):\n",
    "    # Create a new column 'Word_Count' that contains the number of words in each row of the 'Text' column\n",
    "    df['Word_Count'] = df['Text'].apply(lambda x: len(x.split()))\n",
    "    \n",
    "    return df\n",
    "\n"
   ]
  },
  {
   "cell_type": "code",
   "execution_count": 7,
   "id": "bdba27e8",
   "metadata": {},
   "outputs": [
    {
     "name": "stdout",
     "output_type": "stream",
     "text": [
      "                                  Text  Word_Count\n",
      "0                This is a sample text           5\n",
      "1  Another sample text with more words           6\n"
     ]
    }
   ],
   "source": [
    "# Create a sample DataFrame object\n",
    "df = pd.DataFrame({'Text': ['This is a sample text', 'Another sample text with more words']})\n",
    "\n",
    "# Create a new column 'Word_Count' that contains the number of words in each row of the 'Text' column\n",
    "df = count_words_in_text_column(df)\n",
    "\n",
    "# Print the updated DataFrame object\n",
    "print(df)\n"
   ]
  },
  {
   "cell_type": "markdown",
   "id": "232df3fb",
   "metadata": {},
   "source": [
    "Answer 5-\n",
    "Both DataFrame.size and DataFrame.shape are attributes of a Pandas DataFrame object that provide information about the dimensions of the DataFrame, but they are different in their output and the information they provide:\n",
    "\n",
    "DataFrame.size returns the total number of elements in the DataFrame, which is equal to the product of the number of rows and columns in the DataFrame.\n",
    "\n",
    "DataFrame.shape returns a tuple containing the number of rows and columns in the DataFrame, respectively.\n"
   ]
  },
  {
   "cell_type": "code",
   "execution_count": 9,
   "id": "b48fd9c9",
   "metadata": {},
   "outputs": [
    {
     "ename": "SyntaxError",
     "evalue": "unexpected EOF while parsing (696825096.py, line 8)",
     "output_type": "error",
     "traceback": [
      "\u001b[1;36m  File \u001b[1;32m\"C:\\Users\\Akash tripathi\\AppData\\Local\\Temp\\ipykernel_12232\\696825096.py\"\u001b[1;36m, line \u001b[1;32m8\u001b[0m\n\u001b[1;33m    print(df)\u001b[0m\n\u001b[1;37m             ^\u001b[0m\n\u001b[1;31mSyntaxError\u001b[0m\u001b[1;31m:\u001b[0m unexpected EOF while parsing\n"
     ]
    }
   ],
   "source": [
    "# ANswer 6-\n",
    "import pandas as pd\n",
    "\n",
    "# Read the Excel file into a Pandas DataFrame object\n",
    "df = pd.read_excel(#)\n",
    "\n",
    "# Print the DataFrame\n",
    "print(df)\n"
   ]
  },
  {
   "cell_type": "code",
   "execution_count": 10,
   "id": "d02fb679",
   "metadata": {},
   "outputs": [],
   "source": [
    "# Answer 7-\n",
    "import pandas as pd\n",
    "\n",
    "def extract_username_from_email(df):\n",
    "    # Create a new column 'Username' in df that contains only the username part of each email address\n",
    "    df['Username'] = df['Email'].apply(lambda x: x.split('@')[0])\n",
    "    \n",
    "    return df\n"
   ]
  },
  {
   "cell_type": "code",
   "execution_count": 11,
   "id": "8f0e5a4f",
   "metadata": {},
   "outputs": [
    {
     "name": "stdout",
     "output_type": "stream",
     "text": [
      "                    Email    Username\n",
      "0    john.doe@example.com    john.doe\n",
      "1  jane.smith@example.com  jane.smith\n"
     ]
    }
   ],
   "source": [
    "# Create a sample DataFrame object\n",
    "df = pd.DataFrame({'Email': ['john.doe@example.com', 'jane.smith@example.com']})\n",
    "\n",
    "# Create a new column 'Username' in df that contains only the username part of each email address\n",
    "df = extract_username_from_email(df)\n",
    "\n",
    "# Print the updated DataFrame object\n",
    "print(df)\n"
   ]
  },
  {
   "cell_type": "code",
   "execution_count": 12,
   "id": "c19866df",
   "metadata": {},
   "outputs": [],
   "source": [
    "#Answer 8-\n",
    "import pandas as pd\n",
    "\n",
    "def select_rows(df):\n",
    "    # Select all rows where the value in column 'A' is greater than 5 and the value in column 'B' is less than 10\n",
    "    new_df = df[(df['A'] > 5) & (df['B'] < 10)]\n",
    "    \n",
    "    return new_df\n"
   ]
  },
  {
   "cell_type": "code",
   "execution_count": 13,
   "id": "6da4ef41",
   "metadata": {},
   "outputs": [
    {
     "name": "stdout",
     "output_type": "stream",
     "text": [
      "   A  B  C\n",
      "1  8  2  7\n",
      "2  6  9  4\n",
      "4  9  1  2\n"
     ]
    }
   ],
   "source": [
    "# Create a sample DataFrame object\n",
    "df = pd.DataFrame({'A': [3, 8, 6, 2, 9], 'B': [5, 2, 9, 3, 1], 'C': [1, 7, 4, 5, 2]})\n",
    "\n",
    "# Select all rows where the value in column 'A' is greater than 5 and the value in column 'B' is less than 10\n",
    "new_df = select_rows(df)\n",
    "\n",
    "# Print the selected rows\n",
    "print(new_df)\n"
   ]
  },
  {
   "cell_type": "code",
   "execution_count": null,
   "id": "fcb28112",
   "metadata": {},
   "outputs": [],
   "source": []
  }
 ],
 "metadata": {
  "kernelspec": {
   "display_name": "Python 3 (ipykernel)",
   "language": "python",
   "name": "python3"
  },
  "language_info": {
   "codemirror_mode": {
    "name": "ipython",
    "version": 3
   },
   "file_extension": ".py",
   "mimetype": "text/x-python",
   "name": "python",
   "nbconvert_exporter": "python",
   "pygments_lexer": "ipython3",
   "version": "3.9.13"
  }
 },
 "nbformat": 4,
 "nbformat_minor": 5
}
