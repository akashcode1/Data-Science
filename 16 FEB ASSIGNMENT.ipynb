{
 "cells": [
  {
   "cell_type": "code",
   "execution_count": null,
   "id": "2ba1e358",
   "metadata": {},
   "outputs": [],
   "source": [
    "#Answer 1-\n",
    "\"\"\"\n",
    "A database is an organized collection of structured data that is stored and managed on a computer system. Databases are used to store and retrieve information efficiently and securely. There are two main types of databases: SQL and NoSQL.\n",
    "\n",
    "SQL databases, also known as relational databases, are structured databases that use tables with rows and columns to store data. SQL databases use structured query language (SQL) to retrieve and manipulate data. SQL databases are known for their ability to handle complex queries and transactions reliably.\n",
    "\n",
    "NoSQL databases, on the other hand, are non-relational databases that store data in a variety of formats, such as key-value pairs, document, graph, or column-family. NoSQL databases are designed to handle large volumes of unstructured and semi-structured data and to scale horizontally. NoSQL databases are known for their ability to handle big data and high-velocity data streams.\n",
    "\"\"\""
   ]
  },
  {
   "cell_type": "code",
   "execution_count": null,
   "id": "e2804cbc",
   "metadata": {},
   "outputs": [],
   "source": [
    "#Answer 2-\n",
    "\"\"\"\n",
    "DDL stands for Data Definition Language. It is a set of SQL commands used to define and manipulate the structure of a database. The following are some of the most commonly used DDL commands:\n",
    "\n",
    "CREATE :-This command is used to create new database objects such as tables, indexes, and views. \n",
    "Example -CREATE TABLE employees (\n",
    "    id INT PRIMARY KEY,\n",
    "    name VARCHAR(255),\n",
    "    age INT\n",
    ");\n",
    "\n",
    "\n",
    "DROP: This command is used to delete existing database objects such as tables, indexes, and views.\n",
    "Example -DROP TABLE employees;\n",
    "\n",
    "\n",
    "ALTER: This command is used to modify the structure of an existing database object such as a table or column\n",
    "Example -ALTER TABLE employees ADD COLUMN salary DECIMAL(10,2);\n",
    "\n",
    "\n",
    "TRUNCATE: This command is used to delete all data from a table\n",
    "Example - TRUNCATE TABLE employees; \n",
    "\"\"\""
   ]
  },
  {
   "cell_type": "code",
   "execution_count": null,
   "id": "3ae6c979",
   "metadata": {},
   "outputs": [],
   "source": [
    "#Answer 3-\n",
    "\n",
    "\"\"\"\n",
    "DML stands for Data Manipulation Language. It is a set of SQL commands used to modify the data stored in a database. The following are some of the most commonly used DML commands:\n",
    "\n",
    "INSERT: This command is used to insert new data into a table. For example, the following SQL statement inserts a new row into the employees table:\n",
    "Example -INSERT INTO employees (id, name, age, salary) VALUES (1, 'John Smith', 30, 50000.00);\n",
    "\n",
    "UPDATE: This command is used to modify existing data in a table. For example, the following SQL statement updates the age and salary columns of the employees table for the row where the id is 1:\n",
    "Example -UPDATE employees SET age = 31, salary = 55000.00 WHERE id = 1;\n",
    "\n",
    "DELETE: This command is used to delete existing data from a table. For example, the following SQL statement deletes the row from the employees table where the id is 1:\n",
    "Example - DELETE FROM employees WHERE id = 1;\n",
    "\"\"\""
   ]
  },
  {
   "cell_type": "code",
   "execution_count": null,
   "id": "2906cad9",
   "metadata": {},
   "outputs": [],
   "source": [
    "#Answer 4-\n",
    "\"\"\"\n",
    "DQL stands for Data Query Language. It is a set of SQL commands used to query data from a database. The most commonly used DQL command is SELECT. It is used to retrieve data from one or more tables in a database. The syntax for the SELECT command is as follows:\n",
    "\n",
    "Example - SELECT column1, column2, ... FROM table_name WHERE condition;\n",
    "\n",
    "column1, column2, ...: The columns that you want to retrieve from the table.\n",
    "table_name: The name of the table that you want to query.\n",
    "condition: The condition that the data must meet to be included in the query result.\n",
    "\"\"\""
   ]
  },
  {
   "cell_type": "code",
   "execution_count": null,
   "id": "2a9e8a48",
   "metadata": {},
   "outputs": [],
   "source": [
    "#Answer 5-\n",
    "\"\"\"\n",
    "A primary key is a column or combination of columns in a table that uniquely identifies each row in the table. It is used to enforce data integrity and ensure that there are no duplicate rows in the table. A primary key cannot contain NULL values and must be unique.\n",
    "\n",
    "A foreign key is a column or combination of columns in a table that refers to the primary key of another table. It is used to establish a relationship between two tables in a database. A foreign key ensures that the data in the referencing table corresponds to the data in the referenced table.\n",
    "\"\"\""
   ]
  },
  {
   "cell_type": "code",
   "execution_count": null,
   "id": "388a7ba8",
   "metadata": {},
   "outputs": [],
   "source": [
    "#ANswer 6-\n",
    "import mysql.connector\n",
    "\n",
    "# establish connection\n",
    "mydb = mysql.connector.connect(\n",
    "  host=\"localhost\",\n",
    "  user=\"yourusername\",\n",
    "  password=\"yourpassword\",\n",
    "  database=\"yourdatabase\"\n",
    ")\n",
    "\n",
    "# create cursor object\n",
    "mycursor = mydb.cursor()\n",
    "\n",
    "# execute SQL query\n",
    "mycursor.execute(\"SELECT * FROM customers\")\n",
    "\n",
    "# fetch all rows\n",
    "result = mycursor.fetchall()\n",
    "\n",
    "# print rows\n",
    "for row in result:\n",
    "  print(row)\n",
    "\"\"\"In the above code, the mysql.connector module is used to connect to the MySQL database. The cursor() method is used to create a cursor object, which is used to execute SQL queries. The execute() method is used to execute an SQL query, and the fetchall() method is used to fetch all the rows returned by the query.\n",
    "\"\"\"\n"
   ]
  },
  {
   "cell_type": "code",
   "execution_count": null,
   "id": "4a6bdf9e",
   "metadata": {},
   "outputs": [],
   "source": [
    "#Answer 7-\n",
    "\"\"\"\n",
    "-FROM: Specifies the tables from which data is to be retrieved.\n",
    "\n",
    "-JOIN: Combines two or more tables into a single result set based on a specified condition.\n",
    "\n",
    "-WHERE: Filters the rows based on a specified condition.\n",
    "\n",
    "-GROUP BY: Groups the result set by one or more columns.\n",
    "\n",
    "-HAVING: Filters the groups based on a specified condition.\n",
    "\n",
    "-SELECT: Specifies the columns to be retrieved from the result set.\n",
    "\n",
    "-ORDER BY: Sorts the result set by one or more columns.\n",
    "\n",
    "-LIMIT: Limits the number of rows returned by the query.\n",
    "\"\"\""
   ]
  }
 ],
 "metadata": {
  "kernelspec": {
   "display_name": "Python 3 (ipykernel)",
   "language": "python",
   "name": "python3"
  },
  "language_info": {
   "codemirror_mode": {
    "name": "ipython",
    "version": 3
   },
   "file_extension": ".py",
   "mimetype": "text/x-python",
   "name": "python",
   "nbconvert_exporter": "python",
   "pygments_lexer": "ipython3",
   "version": "3.9.13"
  }
 },
 "nbformat": 4,
 "nbformat_minor": 5
}
