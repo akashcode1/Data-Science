{
 "cells": [
  {
   "cell_type": "code",
   "execution_count": 22,
   "id": "1ca69c8b-6afa-4041-acc3-c75e6eaf1ab7",
   "metadata": {},
   "outputs": [],
   "source": [
    "#Answer 1-\n",
    "\"\"\"\n",
    "A class is a blueprint for creating objects. It defines the properties and behaviors of objects of a certain type. \n",
    "For example, we could have a \"Person\" class that has properties such as \"name\", \"age\", \"gender\", etc. and behaviors \n",
    "such as \"walk\", \"talk\", \"eat\", etc.\n",
    "\n",
    "An object is an instance of a class. It is a real-world entity that can be manipulated and manipulated. \n",
    "For example, we could create two objects of the \"Person\" class, each with different values for the properties \"name\", \"age\", \"gender\", etc. \n",
    "These two objects would be completely independent of each other, even though they are both instances of the same \"Person\" class.\"\"\"\n",
    "\n",
    "class Person:\n",
    "    def __init__(self, name, age, gender):\n",
    "        self.name = name\n",
    "        self.age = age\n",
    "        self.gender = gender\n",
    "\n",
    "    def return_details(self):\n",
    "        return self.name,self.age,self.gender\n",
    "\n",
    "person1 = Person(\"Akash Tripathi\", 20, \"Male\")\n",
    "person2 = Person(\"Snehil Yadav\", 21, \"Male\")\n",
    "person3 = Person(\"Aniket Yadav\", 25, \"Male\")\n",
    "person4 = Person(\"Himanshu Gupta\", 23, \"Male\")\n"
   ]
  },
  {
   "cell_type": "code",
   "execution_count": 23,
   "id": "151fdb80-6d60-497b-8382-6de832b6ce81",
   "metadata": {},
   "outputs": [
    {
     "data": {
      "text/plain": [
       "('Akash Tripathi', 20, 'Male')"
      ]
     },
     "execution_count": 23,
     "metadata": {},
     "output_type": "execute_result"
    }
   ],
   "source": [
    "person1.return_details()\n"
   ]
  },
  {
   "cell_type": "code",
   "execution_count": 24,
   "id": "4582db25-4e3c-4fe3-8c4f-b895a2aad7db",
   "metadata": {},
   "outputs": [
    {
     "data": {
      "text/plain": [
       "('Snehil Yadav', 21, 'Male')"
      ]
     },
     "execution_count": 24,
     "metadata": {},
     "output_type": "execute_result"
    }
   ],
   "source": [
    "person2.return_details()\n"
   ]
  },
  {
   "cell_type": "code",
   "execution_count": 25,
   "id": "7484cb27-4095-4515-a4af-23b5c917eb69",
   "metadata": {},
   "outputs": [
    {
     "data": {
      "text/plain": [
       "('Aniket Yadav', 25, 'Male')"
      ]
     },
     "execution_count": 25,
     "metadata": {},
     "output_type": "execute_result"
    }
   ],
   "source": [
    "person3.return_details()\n"
   ]
  },
  {
   "cell_type": "code",
   "execution_count": 26,
   "id": "11bfb97f-075d-43e9-8fe3-d7e04c97526e",
   "metadata": {},
   "outputs": [
    {
     "data": {
      "text/plain": [
       "('Himanshu Gupta', 23, 'Male')"
      ]
     },
     "execution_count": 26,
     "metadata": {},
     "output_type": "execute_result"
    }
   ],
   "source": [
    "person4.return_details()\n"
   ]
  },
  {
   "cell_type": "code",
   "execution_count": 27,
   "id": "dd591113-0271-4c26-b887-bdb81243ca2b",
   "metadata": {},
   "outputs": [
    {
     "data": {
      "text/plain": [
       "'Four pillars of OOPS is -\\n-polymorphism\\n-inheritance\\n-Encapsulation\\n-Abstraction'"
      ]
     },
     "execution_count": 27,
     "metadata": {},
     "output_type": "execute_result"
    }
   ],
   "source": [
    "#Answer 2-\n",
    "\"\"\"Four pillars of OOPS is -\n",
    "-polymorphism\n",
    "-inheritance\n",
    "-Encapsulation\n",
    "-Abstraction\"\"\""
   ]
  },
  {
   "cell_type": "code",
   "execution_count": 28,
   "id": "2347c4e0-3025-4696-8756-b0bc689296fb",
   "metadata": {},
   "outputs": [],
   "source": [
    "#Answer 3-\n",
    "\"\"\"\n",
    "The __init__ method is a special method in Python that is automatically called when an object of a class is created. \n",
    "It is also known as a constructor in other object-oriented programming languages.The __init__ method is used to initialize the object's \n",
    "properties and set up any initial values that the object needs when it is created.The __init__ method takes self as its first argument, \n",
    "which refers to the newly created object, and other arguments that are required to initialize the object's properties.\"\"\"\n",
    "\n",
    "class car:\n",
    "    \n",
    "    def __init__(self,car_color,car_name):\n",
    "        self.car_color=car_color\n",
    "        self.car_model=car_name\n",
    "        \n",
    "    def return_car_details(self):\n",
    "        return self.car_color,self.car_model\n"
   ]
  },
  {
   "cell_type": "code",
   "execution_count": 29,
   "id": "218c1fd2-7aa9-433f-8215-15859a775c12",
   "metadata": {},
   "outputs": [],
   "source": [
    "hundayi = car(\"Black\",\"Verna\")"
   ]
  },
  {
   "cell_type": "code",
   "execution_count": 30,
   "id": "639debee-b94f-4203-a99c-49abb83ed92c",
   "metadata": {},
   "outputs": [
    {
     "data": {
      "text/plain": [
       "('Black', 'Verna')"
      ]
     },
     "execution_count": 30,
     "metadata": {},
     "output_type": "execute_result"
    }
   ],
   "source": [
    "hundayi.return_car_details()"
   ]
  },
  {
   "cell_type": "code",
   "execution_count": 31,
   "id": "1e1df1dc-e867-40e3-9176-17bf0f5aa79a",
   "metadata": {},
   "outputs": [
    {
     "data": {
      "text/plain": [
       "\"\\nIn Object-Oriented Programming (OOP), self is a special keyword used to refer to the instance of the \\nobject itself within a class method self is used to access the properties and methods of the object from \\nwithin the class. It is automatically passed as the first argument to each method defined in the class, \\nso it is always available for use within the method,This allows us to access and manipulate the object's \\nproperties from within the class without having to explicitly pass the object as an argument.\\n\""
      ]
     },
     "execution_count": 31,
     "metadata": {},
     "output_type": "execute_result"
    }
   ],
   "source": [
    "#Answer 4-\n",
    "\"\"\"\n",
    "In Object-Oriented Programming (OOP), self is a special keyword used to refer to the instance of the \n",
    "object itself within a class method self is used to access the properties and methods of the object from \n",
    "within the class. It is automatically passed as the first argument to each method defined in the class, \n",
    "so it is always available for use within the method,This allows us to access and manipulate the object's \n",
    "properties from within the class without having to explicitly pass the object as an argument.\n",
    "\"\"\""
   ]
  },
  {
   "cell_type": "code",
   "execution_count": 32,
   "id": "5892f644-18cd-405d-8aaf-47aaf01e230f",
   "metadata": {},
   "outputs": [],
   "source": [
    "#Answer 5-\n",
    "\"\"\"\n",
    "Inheritance is a mechanism in Object-Oriented Programming (OOP) that allows new classes to be created from \n",
    "existing classes by inheriting the properties and behaviors of the existing classes. This enables code reusability\n",
    "and reduces the amount of redundant code\n",
    "\n",
    "\n",
    "Multiple inheritance: In multiple inheritance, a derived class inherits from multiple base :\n",
    "ex:\n",
    "\"\"\"\n",
    "class Parent1:\n",
    "    def test_1(self):\n",
    "        return \"I'm from parent 1\"\n",
    "\n",
    "class Parent2:\n",
    "    def test_2(self):\n",
    "        return \"I'm from parent 2\"\n",
    "\n",
    "class Child(Parent1, Parent2):\n",
    "    pass"
   ]
  },
  {
   "cell_type": "code",
   "execution_count": 33,
   "id": "839215a7-1631-427d-a8ea-1e8385713cea",
   "metadata": {},
   "outputs": [],
   "source": [
    "#Multiple Inheritance\n",
    "obj_child=Child()"
   ]
  },
  {
   "cell_type": "code",
   "execution_count": 34,
   "id": "2a9e85c2-e3aa-4a26-872f-0ba4e40815d9",
   "metadata": {},
   "outputs": [
    {
     "data": {
      "text/plain": [
       "\"I'm from parent 1\""
      ]
     },
     "execution_count": 34,
     "metadata": {},
     "output_type": "execute_result"
    }
   ],
   "source": [
    "obj_child.test_1()"
   ]
  },
  {
   "cell_type": "code",
   "execution_count": 35,
   "id": "1b14ca8b-f7ca-470e-a2bd-a352bf4da85c",
   "metadata": {},
   "outputs": [
    {
     "data": {
      "text/plain": [
       "\"I'm from parent 2\""
      ]
     },
     "execution_count": 35,
     "metadata": {},
     "output_type": "execute_result"
    }
   ],
   "source": [
    "obj_child.test_2()"
   ]
  },
  {
   "cell_type": "code",
   "execution_count": 36,
   "id": "a9b2637a-a708-4fe7-be5d-4f9e7dbedb28",
   "metadata": {},
   "outputs": [],
   "source": [
    "\"\"\"\n",
    "Hierarchical inheritance: In hierarchical inheritance, multiple derived classes inherit from a single base class\n",
    "ex:\n",
    "\n",
    "\"\"\"\n",
    "#Class 1\n",
    "class class1:\n",
    "    def test_class1(self):\n",
    "        return \" Function of Class 1\"\n",
    "#class 2\n",
    "class class2:\n",
    "    \n",
    "    def test_class2(self):\n",
    "        return \" Function of Class 2\"  \n",
    "#class 3 Who inherit Class 1 & class 2\n",
    "class class3(class1,class2):\n",
    "    pass"
   ]
  },
  {
   "cell_type": "code",
   "execution_count": 37,
   "id": "7a8fdf6a-1c63-4125-a749-75fdd2ced19e",
   "metadata": {},
   "outputs": [],
   "source": [
    "#Making Object of class 3-\n",
    "obj_class3=class3()"
   ]
  },
  {
   "cell_type": "code",
   "execution_count": 38,
   "id": "c4c05a4f-177f-4f62-8dca-2b00c2caaf07",
   "metadata": {},
   "outputs": [
    {
     "data": {
      "text/plain": [
       "' Function of Class 1'"
      ]
     },
     "execution_count": 38,
     "metadata": {},
     "output_type": "execute_result"
    }
   ],
   "source": [
    "obj_class3.test_class1()"
   ]
  },
  {
   "cell_type": "code",
   "execution_count": 39,
   "id": "004c5417-2033-4613-8a4a-d6d35669d1bd",
   "metadata": {},
   "outputs": [
    {
     "data": {
      "text/plain": [
       "' Function of Class 1'"
      ]
     },
     "execution_count": 39,
     "metadata": {},
     "output_type": "execute_result"
    }
   ],
   "source": [
    "obj_class3.test_class1()"
   ]
  },
  {
   "cell_type": "code",
   "execution_count": 40,
   "id": "8c4d9607-6839-460f-a8d8-eb4a1d685f47",
   "metadata": {},
   "outputs": [
    {
     "data": {
      "text/plain": [
       "'\\nSingle inheritance: In single inheritance, a derived class inherits from a single base class\\nEx:\\n'"
      ]
     },
     "execution_count": 40,
     "metadata": {},
     "output_type": "execute_result"
    }
   ],
   "source": [
    "\"\"\"\n",
    "Single inheritance: In single inheritance, a derived class inherits from a single base class\n",
    "Ex:\n",
    "\"\"\""
   ]
  },
  {
   "cell_type": "code",
   "execution_count": 41,
   "id": "89fa97b6-3b06-48f3-9988-5d3e229f5214",
   "metadata": {},
   "outputs": [],
   "source": [
    "class Animal:\n",
    "    def make_sound(self):\n",
    "        print(\"Some generic animal sound\")\n",
    "\n",
    "class Dog(Animal):\n",
    "    def make_sound(self):\n",
    "        print(\"ENGLISH ME Woof Woof --  HINDI ME BHAUU \")\n"
   ]
  },
  {
   "cell_type": "code",
   "execution_count": 42,
   "id": "67e287ed-b172-4379-90e0-20adaf36be31",
   "metadata": {},
   "outputs": [
    {
     "name": "stdout",
     "output_type": "stream",
     "text": [
      "ENGLISH ME Woof Woof --  HINDI ME BHAUU \n"
     ]
    }
   ],
   "source": [
    "dog = Dog()\n",
    "\n",
    "dog.make_sound()\n"
   ]
  }
 ],
 "metadata": {
  "kernelspec": {
   "display_name": "Python 3 (ipykernel)",
   "language": "python",
   "name": "python3"
  },
  "language_info": {
   "codemirror_mode": {
    "name": "ipython",
    "version": 3
   },
   "file_extension": ".py",
   "mimetype": "text/x-python",
   "name": "python",
   "nbconvert_exporter": "python",
   "pygments_lexer": "ipython3",
   "version": "3.10.6"
  }
 },
 "nbformat": 4,
 "nbformat_minor": 5
}
