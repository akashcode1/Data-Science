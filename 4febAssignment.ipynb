{
 "cells": [
  {
   "cell_type": "code",
   "execution_count": 6,
   "id": "84586928-3f7a-40e9-9c8a-3d535ea4c565",
   "metadata": {},
   "outputs": [
    {
     "name": "stdout",
     "output_type": "stream",
     "text": [
      "[('Virat Kohli', 24936), ('Jack Kallis', 25534), ('Ricky Ponting', 27483), ('Sachin Tendulkar', 34357)]\n"
     ]
    }
   ],
   "source": [
    "#Answer 1-\n",
    "m=[('Sachin Tendulkar', 34357), ('Ricky Ponting', 27483),\n",
    "('Jack Kallis', 25534), ('Virat Kohli', 24936)]\n",
    "m.sort(key=lambda x: x[1])\n",
    "print(m)"
   ]
  },
  {
   "cell_type": "code",
   "execution_count": 1,
   "id": "eac0e237-2dcf-4958-8cbd-bb0425466b13",
   "metadata": {},
   "outputs": [
    {
     "data": {
      "text/plain": [
       "[1, 4, 9, 16, 25, 36, 49, 64, 81, 100]"
      ]
     },
     "execution_count": 1,
     "metadata": {},
     "output_type": "execute_result"
    }
   ],
   "source": [
    "#Answer 2-\n",
    "l=[1, 2, 3, 4, 5, 6, 7, 8, 9, 10]\n",
    "list(map(lambda x : x**2,l))\n"
   ]
  },
  {
   "cell_type": "code",
   "execution_count": 3,
   "id": "60c27f30-df76-42c7-aa64-2c1bfce1427b",
   "metadata": {},
   "outputs": [
    {
     "data": {
      "text/plain": [
       "('1', '2', '3', '4', '5', '6', '7', '8', '9', '10')"
      ]
     },
     "execution_count": 3,
     "metadata": {},
     "output_type": "execute_result"
    }
   ],
   "source": [
    "#Answer 3-\n",
    "s=[1, 2, 3, 4, 5, 6, 7, 8, 9, 10]\n",
    "tuple(map(lambda x:str(x),s))\n"
   ]
  },
  {
   "cell_type": "code",
   "execution_count": 11,
   "id": "c97d0452-fdb5-48ec-bf01-6ced65511519",
   "metadata": {},
   "outputs": [
    {
     "data": {
      "text/plain": [
       "15511210043330985984000000"
      ]
     },
     "execution_count": 11,
     "metadata": {},
     "output_type": "execute_result"
    }
   ],
   "source": [
    "#Answer 4-\n",
    "from functools import reduce\n",
    "l=[i for i in range(1,26)]\n",
    "reduce(lambda x,y :x*y ,l)"
   ]
  },
  {
   "cell_type": "code",
   "execution_count": 4,
   "id": "0e0c9141-2857-46dc-b509-7dbbba74afcd",
   "metadata": {},
   "outputs": [
    {
     "data": {
      "text/plain": [
       "[6, 60, 90, 120]"
      ]
     },
     "execution_count": 4,
     "metadata": {},
     "output_type": "execute_result"
    }
   ],
   "source": [
    "#Answer 5-\n",
    "l=[2, 3, 6, 9, 27, 60, 90, 120, 55, 46]\n",
    "list(filter(lambda x : x%2==0 and x%3==0,l))\n"
   ]
  },
  {
   "cell_type": "code",
   "execution_count": 3,
   "id": "4b87f112-5a1a-41a6-9bce-39e9c9fe4f64",
   "metadata": {},
   "outputs": [
    {
     "data": {
      "text/plain": [
       "['php', 'aba', 'radar', 'level']"
      ]
     },
     "execution_count": 3,
     "metadata": {},
     "output_type": "execute_result"
    }
   ],
   "source": [
    "#Answer 6-\n",
    "\n",
    "string=['python', 'php', 'aba', 'radar', 'level']\n",
    "list(filter(lambda x : x == x[::-1],string))\n"
   ]
  },
  {
   "cell_type": "code",
   "execution_count": null,
   "id": "916e67f3-22bd-45c7-97dd-4def4cdfbc55",
   "metadata": {},
   "outputs": [],
   "source": []
  }
 ],
 "metadata": {
  "kernelspec": {
   "display_name": "Python 3 (ipykernel)",
   "language": "python",
   "name": "python3"
  },
  "language_info": {
   "codemirror_mode": {
    "name": "ipython",
    "version": 3
   },
   "file_extension": ".py",
   "mimetype": "text/x-python",
   "name": "python",
   "nbconvert_exporter": "python",
   "pygments_lexer": "ipython3",
   "version": "3.10.6"
  }
 },
 "nbformat": 4,
 "nbformat_minor": 5
}
