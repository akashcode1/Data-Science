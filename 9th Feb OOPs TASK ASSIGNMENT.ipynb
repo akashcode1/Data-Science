{
 "cells": [
  {
   "cell_type": "code",
   "execution_count": 2,
   "id": "4022359f",
   "metadata": {},
   "outputs": [],
   "source": [
    "#ANswer 1-\n",
    "class vehicle:\n",
    "    def __init__(self,name_of_vehicle, max_speed,average_of_vehicle):\n",
    "        self.name_of_vehicle=name_of_vehicle \n",
    "        self.max_speed=max_speed\n",
    "        self.average_of_vehicle=average_of_vehicle\n",
    "        "
   ]
  },
  {
   "cell_type": "code",
   "execution_count": 7,
   "id": "e9d3ad46",
   "metadata": {},
   "outputs": [],
   "source": [
    "#Answer 2-\n",
    "class car(vehicle):\n",
    "    def seating_capacity(self, capacity):\n",
    "        return f\"{self.name_of_vehicle} has a seating capacity of {capacity} passengers.\"\n"
   ]
  },
  {
   "cell_type": "code",
   "execution_count": 13,
   "id": "1f45d0f6",
   "metadata": {},
   "outputs": [],
   "source": [
    "obj=car(\"Ertiga\",120,22)"
   ]
  },
  {
   "cell_type": "code",
   "execution_count": 15,
   "id": "b6e20f93",
   "metadata": {},
   "outputs": [
    {
     "data": {
      "text/plain": [
       "'Ertiga has a seating capacity of 8 passengers.'"
      ]
     },
     "execution_count": 15,
     "metadata": {},
     "output_type": "execute_result"
    }
   ],
   "source": [
    "obj.seating_capacity(8)"
   ]
  },
  {
   "cell_type": "code",
   "execution_count": 16,
   "id": "75cc7e95",
   "metadata": {},
   "outputs": [],
   "source": [
    "#Answer -3\n",
    "\"\"\"Multiple inheritance is a feature in object-oriented programming where a class can inherit attributes and methods from multiple parent classes.\n",
    "This means that a child class can have more than one parent class and can inherit from all of them.\"\"\"\n",
    "\n",
    "class A:\n",
    "    def method_A(self):\n",
    "        print(\"This is method A\")\n",
    "        \n",
    "class B:\n",
    "    def method_B(self):\n",
    "        print(\"This is method B\")\n",
    "        \n",
    "class C(A, B):\n",
    "    def method_C(self):\n",
    "        print(\"This is method C\")\n"
   ]
  },
  {
   "cell_type": "code",
   "execution_count": 18,
   "id": "cea78979",
   "metadata": {},
   "outputs": [],
   "source": [
    "obj=C()"
   ]
  },
  {
   "cell_type": "code",
   "execution_count": 19,
   "id": "296b1b44",
   "metadata": {},
   "outputs": [
    {
     "name": "stdout",
     "output_type": "stream",
     "text": [
      "This is method A\n"
     ]
    }
   ],
   "source": [
    "obj.method_A()"
   ]
  },
  {
   "cell_type": "code",
   "execution_count": 20,
   "id": "3d45fd8a",
   "metadata": {},
   "outputs": [
    {
     "name": "stdout",
     "output_type": "stream",
     "text": [
      "This is method B\n"
     ]
    }
   ],
   "source": [
    "obj.method_B()"
   ]
  },
  {
   "cell_type": "code",
   "execution_count": 21,
   "id": "56de623f",
   "metadata": {},
   "outputs": [
    {
     "name": "stdout",
     "output_type": "stream",
     "text": [
      "This is method C\n"
     ]
    }
   ],
   "source": [
    "obj.method_C()"
   ]
  },
  {
   "cell_type": "code",
   "execution_count": 23,
   "id": "5226f5d7",
   "metadata": {},
   "outputs": [],
   "source": [
    "#Answer 4-\n",
    "\"\"\"\n",
    "In Python, getter and setter methods are used to get and set the values of instance variables respectively. \n",
    "These methods are used to control the access to instance variables of a class.\n",
    "\"\"\"\n",
    "\n",
    "class student:\n",
    "    def __init__(self, name, age):\n",
    "        self.__name = name  # private instance variable\n",
    "        self.__age = age    # private instance variable\n",
    "\n",
    "    # getter method to get the value of name\n",
    "    def get_name(self):\n",
    "        return self.__name\n",
    "\n",
    "    # setter method to set the value of name\n",
    "    def set_name(self, name):\n",
    "        self.__name = name\n",
    "\n",
    "    # getter method to get the value of age\n",
    "    def get_age(self):\n",
    "        return self.__age\n",
    "\n",
    "    # setter method to set the value of age\n",
    "    def set_age(self, age):\n",
    "        if age < 0:\n",
    "            raise ValueError(\"Age cannot be negative.\")\n",
    "        self.__age = age\n"
   ]
  },
  {
   "cell_type": "code",
   "execution_count": 24,
   "id": "f9891504",
   "metadata": {},
   "outputs": [
    {
     "name": "stdout",
     "output_type": "stream",
     "text": [
      "AKASH\n",
      "Snehil\n",
      "20\n",
      "30\n"
     ]
    }
   ],
   "source": [
    "st1 = student(\"AKASH\", 20)\n",
    "print(st1.get_name())  \n",
    "st1.set_name(\"Snehil\")\n",
    "print(st1.get_name())  \n",
    "\n",
    "print(st1.get_age())  \n",
    "st1.set_age(30)\n",
    "print(st1.get_age())   \n"
   ]
  },
  {
   "cell_type": "code",
   "execution_count": 26,
   "id": "1b3a6aa6",
   "metadata": {},
   "outputs": [
    {
     "name": "stdout",
     "output_type": "stream",
     "text": [
      "The animal makes a sound.\n",
      "The dog barks.(Bhauu Bhauu)\n",
      "The cat meows.(Meaowww Meaowww)\n"
     ]
    }
   ],
   "source": [
    "#ANswer 5-\n",
    "\"\"\"Method overriding is a feature in object-oriented programming where a child class provides a different implementation of a method that is already defined in its parent class.\n",
    "The child class can override the implementation of any method that it inherits from its parent class.\"\"\"\n",
    "\n",
    "class janwar:\n",
    "    def chillao(self):\n",
    "        print(\"The animal makes a sound.\")\n",
    "\n",
    "class Dog(janwar):\n",
    "    def chillao(self):\n",
    "        print(\"The dog barks.(Bhauu Bhauu)\")\n",
    "\n",
    "class Cat(janwar):\n",
    "    def chillao(self):\n",
    "        print(\"The cat meows.(Meaowww Meaowww)\")\n",
    "\n",
    "animal = janwar()\n",
    "animal.chillao()   \n",
    "\n",
    "tommy = Dog()\n",
    "tommy.chillao()      \n",
    "\n",
    "julie = Cat()\n",
    "julie.chillao()     \n"
   ]
  },
  {
   "cell_type": "code",
   "execution_count": null,
   "id": "f5fd7324",
   "metadata": {},
   "outputs": [],
   "source": [
    "#Funny name methods or class ke isliye hai kyuki Mujhe padhai ko intresting banana hai \n",
    "#soo plzz bura na manyiyga mere kisi ko hurt krne ka maksad nhi agey bhi aisa krunga mai😂"
   ]
  }
 ],
 "metadata": {
  "kernelspec": {
   "display_name": "Python 3 (ipykernel)",
   "language": "python",
   "name": "python3"
  },
  "language_info": {
   "codemirror_mode": {
    "name": "ipython",
    "version": 3
   },
   "file_extension": ".py",
   "mimetype": "text/x-python",
   "name": "python",
   "nbconvert_exporter": "python",
   "pygments_lexer": "ipython3",
   "version": "3.9.13"
  }
 },
 "nbformat": 4,
 "nbformat_minor": 5
}
