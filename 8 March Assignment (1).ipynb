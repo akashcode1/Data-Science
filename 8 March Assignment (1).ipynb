{
 "cells": [
  {
   "cell_type": "markdown",
   "id": "714e82a5",
   "metadata": {},
   "source": [
    "# Answer 1-\n",
    "The probability density function (PDF) is a function used in probability theory to describe the likelihood of a random variable taking on a particular value or range of values. In continuous probability distributions, such as the normal distribution, the PDF is a curve that represents the relative likelihood of each possible outcome."
   ]
  },
  {
   "cell_type": "markdown",
   "id": "c5ff672b",
   "metadata": {},
   "source": [
    " # Answer 2-\n",
    "There are many types of probability distributions, but some of the most common ones are:\n",
    "\n",
    "-Normal distribution: a continuous distribution that is often used to model real-world data, and has a bell-shaped curve.\n",
    "\n",
    "-Binomial distribution: a discrete distribution that models the number of successes in a fixed number of independent trials, with a fixed probability of success.\n",
    "\n",
    "-Poisson distribution: a discrete distribution that models the number of occurrences of an event in a fixed interval of time or space.\n",
    "\n",
    "-Exponential distribution: a continuous distribution that models the time between events that occur independently at a constant rate.\n",
    "\n",
    "-Uniform distribution: a continuous distribution where all outcomes in a given range are equally likely"
   ]
  },
  {
   "cell_type": "markdown",
   "id": "67c4f2ad",
   "metadata": {},
   "source": [
    "# Answer 3-\n"
   ]
  },
  {
   "cell_type": "code",
   "execution_count": 1,
   "id": "ebabf64a",
   "metadata": {},
   "outputs": [],
   "source": [
    "import math\n",
    "\n",
    "def normal_pdf(x, mean, sd):\n",
    "    \"\"\"\n",
    "    Calculates the probability density function (PDF) of a normal distribution with a given mean and standard deviation\n",
    "    at a given point.\n",
    "    \n",
    "    Parameters:\n",
    "    x (float): The point at which to calculate the PDF.\n",
    "    mean (float): The mean of the normal distribution.\n",
    "    sd (float): The standard deviation of the normal distribution.\n",
    "    \n",
    "    Returns:\n",
    "    float: The PDF of the normal distribution at the given point.\n",
    "    \"\"\"\n",
    "    coef = 1 / (sd * math.sqrt(2 * math.pi))\n",
    "    exp = math.exp(-((x - mean)**2) / (2 * sd**2))\n",
    "    return coef * exp\n"
   ]
  },
  {
   "cell_type": "markdown",
   "id": "1039d8da",
   "metadata": {},
   "source": [
    "# Answer 4-\n",
    "The binomial distribution has several properties, including:\n",
    "\n",
    "-It models the number of successes in a fixed number of independent trials, with a fixed probability of success.\n",
    "\n",
    "-It is a discrete distribution, meaning that the number of possible outcomes is finite and countable.\n",
    "\n",
    "-It has two parameters: n (the number of trials) and p (the probability of success in each trial).\n",
    "\n",
    "-The mean of a binomial distribution is np, and the variance is np(1-p).\n",
    "\n",
    "Two examples of events where the binomial distribution can be applied are:\n",
    "\n",
    "-The number of heads obtained when flipping a coin a fixed number of times.\n",
    "\n",
    "-The number of customers who buy a product out of a fixed number of potential customers, where the probability of buying is known."
   ]
  },
  {
   "cell_type": "code",
   "execution_count": 2,
   "id": "0320f508",
   "metadata": {},
   "outputs": [
    {
     "data": {
      "image/png": "[encoded data removed]",
      "text/plain": [
       "<Figure size 640x480 with 1 Axes>"
      ]
     },
     "metadata": {},
     "output_type": "display_data"
    }
   ],
   "source": [
    "# Answer 5-\n",
    "import numpy as np\n",
    "import matplotlib.pyplot as plt\n",
    "\n",
    "n = 1000\n",
    "p = 0.4\n",
    "\n",
    "# Generate random sample from binomial distribution\n",
    "sample = np.random.binomial(n, p, size=1000)\n",
    "\n",
    "# Plot histogram of the sample\n",
    "plt.hist(sample, bins=20)\n",
    "plt.xlabel('Number of Successes')\n",
    "plt.ylabel('Frequency')\n",
    "plt.title('Binomial Distribution with n=1000, p=0.4')\n",
    "plt.show()\n"
   ]
  },
  {
   "cell_type": "code",
   "execution_count": 3,
   "id": "ba09b996",
   "metadata": {},
   "outputs": [],
   "source": [
    "# Answer 6-\n",
    "import math\n",
    "\n",
    "def poisson_cdf(mean, point):\n",
    "    cdf = 0.0\n",
    "    for i in range(point+1):\n",
    "        cdf += math.exp(-mean) * (mean ** i) / math.factorial(i)\n",
    "    return cdf\n"
   ]
  },
  {
   "cell_type": "markdown",
   "id": "c11c943a",
   "metadata": {},
   "source": [
    "This function takes two arguments: mean is the mean of the Poisson distribution, and point is the point at which to calculate the cumulative distribution function. The function uses the Poisson probability mass function to calculate the cumulative distribution function up to the given point. The result is returned as a float.\n",
    "\n",
    "To use this function, simply call poisson_cdf(mean, point) with the desired values for mean and point. For example, to calculate the cumulative distribution function of a Poisson distribution with mean 5 at point 3, you would call poisson_cdf(5, 3)."
   ]
  },
  {
   "cell_type": "markdown",
   "id": "75b73b8f",
   "metadata": {},
   "source": [
    "# Answer 7-\n",
    "The main differences between the binomial and Poisson distributions are:\n",
    "\n",
    "-The binomial distribution models the number of successes in a fixed number of independent trials, with a fixed probability of success, while the Poisson distribution models the number of occurrences of an event in a fixed interval of time or space.\n",
    "\n",
    "-The binomial distribution is discrete, while the Poisson distribution is often used as an approximation to a discrete process when the number of occurrences becomes large.\n",
    "\n",
    "-The binomial distribution has two parameters (n and p), while the Poisson distribution has one parameter (lambda, which represents both the mean and variance)."
   ]
  },
  {
   "cell_type": "code",
   "execution_count": 4,
   "id": "68eeb11c",
   "metadata": {},
   "outputs": [
    {
     "name": "stdout",
     "output_type": "stream",
     "text": [
      "Sample Mean: 4.915\n",
      "Sample Variance: 4.889775\n"
     ]
    }
   ],
   "source": [
    "# Answer 8-\n",
    "import numpy as np\n",
    "\n",
    "# Generate random sample from Poisson distribution\n",
    "sample = np.random.poisson(5, size=1000)\n",
    "\n",
    "# Calculate sample mean and variance\n",
    "sample_mean = np.mean(sample)\n",
    "sample_var = np.var(sample)\n",
    "\n",
    "# Print sample mean and variance\n",
    "print(\"Sample Mean:\", sample_mean)\n",
    "print(\"Sample Variance:\", sample_var)\n"
   ]
  },
  {
   "cell_type": "markdown",
   "id": "7789aeaa",
   "metadata": {},
   "source": [
    "# Answer 9-\n",
    "In the binomial distribution, the mean and variance are related by the formula mean = np and variance = np(1-p), where n is the number of trials and p is the probability of success. In the Poisson distribution, the mean and variance are equal to lambda, which represents both the mean and variance."
   ]
  },
  {
   "cell_type": "markdown",
   "id": "16143cdb",
   "metadata": {},
   "source": [
    "# Answer 10-\n",
    "In a normal distribution, the least frequent data appear at the tails of the distribution, which are the values that are farthest away from the mean. In a standard normal distribution (with a mean of 0 and a standard deviation of 1), the least frequent data appear at the z-scores of -3 and 3, which correspond to the values that are three standard deviations away from the mean."
   ]
  }
 ],
 "metadata": {
  "kernelspec": {
   "display_name": "Python 3 (ipykernel)",
   "language": "python",
   "name": "python3"
  },
  "language_info": {
   "codemirror_mode": {
    "name": "ipython",
    "version": 3
   },
   "file_extension": ".py",
   "mimetype": "text/x-python",
   "name": "python",
   "nbconvert_exporter": "python",
   "pygments_lexer": "ipython3",
   "version": "3.9.13"
  }
 },
 "nbformat": 4,
 "nbformat_minor": 5
}
