{
 "cells": [
  {
   "cell_type": "code",
   "execution_count": 24,
   "id": "7f80b9ea-b302-48bb-9c17-59bfed762fe2",
   "metadata": {},
   "outputs": [
    {
     "data": {
      "text/plain": [
       "'Answer1 - \\n\\n   A \"for loop\" is used when you want to iterate over a sequence (such as a list, tuple, or string) \\n   and execute a block of code for each item in the sequence. \\n   \\n   Example: Printing the elements of a list using a for loop:\\n\\n\\n     fruits = [\\'apple\\', \\'banana\\', \\'cherry\\']\\n     for fruit in fruits:\\n        print(fruit)\\n   \\n   A \"while loop\" is used when you want to keep executing a block of code as long as a certain condition is met.\\n\\n    \\n  Example: Printing the numbers from 1 to 10 using a while loop:\\n\\n\\n    n = 1\\n    while n <= 10:\\n        print(n)\\n        n += 1\\n'"
      ]
     },
     "execution_count": 24,
     "metadata": {},
     "output_type": "execute_result"
    }
   ],
   "source": [
    "\"\"\"Answer1 - \n",
    "\n",
    "   A \"for loop\" is used when you want to iterate over a sequence (such as a list, tuple, or string) \n",
    "   and execute a block of code for each item in the sequence. \n",
    "   \n",
    "   Example: Printing the elements of a list using a for loop:\n",
    "\n",
    "\n",
    "     fruits = ['apple', 'banana', 'cherry']\n",
    "     for fruit in fruits:\n",
    "        print(fruit)\n",
    "   \n",
    "   A \"while loop\" is used when you want to keep executing a block of code as long as a certain condition is met.\n",
    "\n",
    "    \n",
    "  Example: Printing the numbers from 1 to 10 using a while loop:\n",
    "\n",
    "\n",
    "    n = 1\n",
    "    while n <= 10:\n",
    "        print(n)\n",
    "        n += 1\n",
    "\"\"\"\n",
    "    "
   ]
  },
  {
   "cell_type": "code",
   "execution_count": 1,
   "id": "41eb4579-cdf8-473d-bf2f-ef69be59eed1",
   "metadata": {},
   "outputs": [
    {
     "name": "stdout",
     "output_type": "stream",
     "text": [
      "Sum of the first 10 natural numbers (using while loop): 55\n",
      "Product of the first 10 natural numbers (using while loop): 3628800\n"
     ]
    }
   ],
   "source": [
    "#Answer -2\n",
    "\"\"\"While loop\"\"\"\n",
    "sum = 0\n",
    "product = 1\n",
    "i = 1\n",
    "\n",
    "while i <= 10:\n",
    "    sum =  sum+i\n",
    "    product =product*i\n",
    "    i += 1\n",
    "\n",
    "print(\"Sum of the first 10 natural numbers (using while loop):\", sum)\n",
    "print(\"Product of the first 10 natural numbers (using while loop):\", product)\n"
   ]
  },
  {
   "cell_type": "code",
   "execution_count": 4,
   "id": "ad82fc13-9db5-4ccb-bcd9-97e8075f548b",
   "metadata": {},
   "outputs": [
    {
     "name": "stdout",
     "output_type": "stream",
     "text": [
      "Sum of the first 10 natural numbers (using For loop): 55\n",
      "Product of the first 10 natural numbers (using For loop): 3628800\n"
     ]
    }
   ],
   "source": [
    "\"\"\" FOR LOOP \"\"\"\n",
    "summ=0\n",
    "product = 1\n",
    "for i in range(1,11):\n",
    "    summ = summ+i\n",
    "    product = product*i\n",
    "print(\"Sum of the first 10 natural numbers (using For loop):\", summ)\n",
    "print(\"Product of the first 10 natural numbers (using For loop):\", product)"
   ]
  },
  {
   "cell_type": "code",
   "execution_count": 7,
   "id": "aef74d52-6acd-41f6-861c-c7d564e61f69",
   "metadata": {},
   "outputs": [
    {
     "name": "stdin",
     "output_type": "stream",
     "text": [
      "Enter Unit 301\n"
     ]
    },
    {
     "name": "stdout",
     "output_type": "stream",
     "text": [
      "Your electricity bill is: Rs. 2070.0\n"
     ]
    }
   ],
   "source": [
    "#Answer 3-\n",
    "n=int(input(\"Enter Unit\"))\n",
    "bills=0\n",
    "if n<100:\n",
    "    bills = n*4.5\n",
    "elif n<= 200:\n",
    "    bill = 100 * 4.5 + (n - 100) * 6\n",
    "elif n <= 300:\n",
    "    bill = 100 * 4.5 + 100 * 6 + (n - 200) * 10\n",
    "else:\n",
    "    bill = 100 * 4.5 + 100 * 6 + 100 * 10 + (n - 300) * 20\n",
    "\n",
    "print(\"Your electricity bill is: Rs.\", bill)\n",
    "    \n",
    "    "
   ]
  },
  {
   "cell_type": "code",
   "execution_count": 21,
   "id": "bf049193-555b-4860-9795-9eda385eeec9",
   "metadata": {},
   "outputs": [
    {
     "name": "stdout",
     "output_type": "stream",
     "text": [
      "[2, 4, 5, 6, 8, 10, 12, 14, 15, 16, 18, 20, 22, 24, 25, 26, 28, 30, 32, 34, 35, 36, 38, 40, 42, 44, 45, 46, 48, 50, 52, 54, 55, 56, 58, 60, 62, 64, 65, 66, 68, 70, 72, 74, 75, 76, 78, 80, 82, 84, 85, 86, 88, 90, 92, 94, 95, 96, 98, 100]\n"
     ]
    }
   ],
   "source": [
    "#Answer 4\n",
    "\n",
    "l=[i for i in range(1,101)]\n",
    "l1=[]\n",
    "for i in l:\n",
    "    cube = i ** 3\n",
    "    if cube%4==0 or cube%5==0:\n",
    "        l1.append(i)\n",
    "print(l1)\n"
   ]
  },
  {
   "cell_type": "code",
   "execution_count": 20,
   "id": "2ad3e8e1-c4f9-41e4-b098-3127c4b5e182",
   "metadata": {},
   "outputs": [
    {
     "name": "stdout",
     "output_type": "stream",
     "text": [
      "[2, 4, 5, 6, 8, 10, 12, 14, 15, 16, 18, 20, 22, 24, 25, 26, 28, 30, 32, 34, 35, 36, 38, 40, 42, 44, 45, 46, 48, 50, 52, 54, 55, 56, 58, 60, 62, 64, 65, 66, 68, 70, 72, 74, 75, 76, 78, 80, 82, 84, 85, 86, 88, 90, 92, 94, 95, 96, 98, 100]\n"
     ]
    }
   ],
   "source": [
    "# (Using For Loop)\n",
    "l2=[]\n",
    "i=1\n",
    "while i<=len(l):\n",
    "    cube = i ** 3\n",
    "    if cube%4==0 or cube%5==0:\n",
    "        l2.append(i)\n",
    "    i=i+1\n",
    "print(l2)\n",
    "    "
   ]
  },
  {
   "cell_type": "code",
   "execution_count": 23,
   "id": "c9c58169-6f18-4fc1-a518-ed013c2ee07f",
   "metadata": {},
   "outputs": [
    {
     "name": "stdout",
     "output_type": "stream",
     "text": [
      "12\n"
     ]
    }
   ],
   "source": [
    "#Answer 5\n",
    "vowels=\"AEIOUaeiou\"\n",
    "string = \"I want to become a data scientist\"\n",
    "count=0\n",
    "for i in string:\n",
    "    if i in vowels:\n",
    "        count = count +1\n",
    "print(count)\n",
    "        "
   ]
  },
  {
   "cell_type": "code",
   "execution_count": null,
   "id": "89f53afb-2a79-455e-b7b0-4e1cffa36d4c",
   "metadata": {},
   "outputs": [],
   "source": []
  }
 ],
 "metadata": {
  "kernelspec": {
   "display_name": "Python 3 (ipykernel)",
   "language": "python",
   "name": "python3"
  },
  "language_info": {
   "codemirror_mode": {
    "name": "ipython",
    "version": 3
   },
   "file_extension": ".py",
   "mimetype": "text/x-python",
   "name": "python",
   "nbconvert_exporter": "python",
   "pygments_lexer": "ipython3",
   "version": "3.10.8"
  }
 },
 "nbformat": 4,
 "nbformat_minor": 5
}
